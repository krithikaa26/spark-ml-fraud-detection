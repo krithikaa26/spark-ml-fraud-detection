{
 "cells": [
  {
   "cell_type": "markdown",
   "metadata": {
    "application/vnd.databricks.v1+cell": {
     "cellMetadata": {
      "byteLimit": 2048000,
      "rowLimit": 10000
     },
     "inputWidgets": {},
     "nuid": "ecb7371e-795c-43a5-b76a-f88680e932f6",
     "showTitle": false,
     "tableResultSettingsMap": {},
     "title": ""
    }
   },
   "source": [
    "# Final Project: Big Data Analytics & MLOps using Hive/Spark\n",
    "\n",
    "## Team Members\n",
    "- Krithiga Rajan Sangeetha Rajan\n",
    "- Abhishek Bagepalli\n",
    "\n",
    "## Phase 1: Data Selection & Problem Definition\n",
    "\n",
    "### 1. Project Overview\n",
    "This project focuses on detecting fraudulent transactions in credit card payments using big data processing techniques with Apache Spark and Hive. With financial fraud on the rise, accurately identifying fraudulent transactions can help financial institutions prevent losses. The project will use machine learning models to classify transactions as legitimate or fraudulent.\n",
    "\n",
    "### 2. Dataset Overview\n",
    "- **Dataset Name:** Credit Card Fraud Detection\n",
    "- **Source:** Kaggle ([Credit Card Fraud Dataset](https://www.kaggle.com/datasets/mlg-ulb/creditcardfraud))\n",
    "- **Description:** The dataset contains **284,807 transactions** made by European cardholders in **September 2013**. It includes **492 fraudulent transactions**, making up only **0.172%** of the dataset.\n",
    "- **Features:**\n",
    "  - `Time`: Time elapsed since the first transaction.\n",
    "  - `V1 - V28`: Anonymized numerical features (PCA transformed).\n",
    "  - `Amount`: Transaction amount.\n",
    "  - `Class`: The target variable (0 = legitimate, 1 = fraud).\n",
    "\n",
    "### 3. Problem Statement\n",
    "Credit card fraud detection is challenging due to the severe class imbalance in transaction data. This project aims to develop a scalable fraud detection model** using Spark MLlib to identify fraudulent transactions effectively.\n",
    "\n",
    "### 4. Challenges in Fraud Detection\n",
    "- **Class Imbalance**: Fraud cases are extremely rare (~0.172% of data).\n",
    "- **Feature Engineering**: The dataset contains PCA-transformed features, limiting direct interpretability.\n",
    "- **Big Data Processing**: Spark & Hive will be used to efficiently handle large-scale transactions.\n",
    "- **Model Performance & Deployment**: Fraud detection models must be fast, accurate, and scalable."
   ]
  },
  {
   "cell_type": "markdown",
   "metadata": {
    "application/vnd.databricks.v1+cell": {
     "cellMetadata": {
      "byteLimit": 2048000,
      "rowLimit": 10000
     },
     "inputWidgets": {},
     "nuid": "31c56c7a-c456-4969-8629-45fcdc9ae7e3",
     "showTitle": false,
     "tableResultSettingsMap": {},
     "title": ""
    }
   },
   "source": [
    "## Phase 2: Data Ingestion & Preprocessing\n",
    "\n",
    "### 1. Data Exploration & Cleaning Using Spark SQL"
   ]
  },
  {
   "cell_type": "code",
   "execution_count": 0,
   "metadata": {
    "application/vnd.databricks.v1+cell": {
     "cellMetadata": {
      "byteLimit": 2048000,
      "rowLimit": 10000
     },
     "inputWidgets": {},
     "nuid": "9e53bcad-dde8-44df-81f3-d390e2d7d89f",
     "showTitle": false,
     "tableResultSettingsMap": {},
     "title": ""
    }
   },
   "outputs": [],
   "source": [
    "# Load the dataset into a Spark DataFrame\n",
    "df = spark.read.csv(\"/FileStore/user/creditcard.csv\", header=True, inferSchema=True)\n",
    "\n",
    "# Register DataFrame as a SQL table\n",
    "df.createOrReplaceTempView(\"creditcard_transactions\")"
   ]
  },
  {
   "cell_type": "code",
   "execution_count": 0,
   "metadata": {
    "application/vnd.databricks.v1+cell": {
     "cellMetadata": {
      "byteLimit": 2048000,
      "implicitDf": true,
      "rowLimit": 10000
     },
     "inputWidgets": {},
     "nuid": "dc40c401-6a00-4b24-a14e-f4aff96ee7f7",
     "showTitle": false,
     "tableResultSettingsMap": {},
     "title": ""
    }
   },
   "outputs": [
    {
     "output_type": "display_data",
     "data": {
      "text/html": [
       "<style scoped>\n",
       "  .table-result-container {\n",
       "    max-height: 300px;\n",
       "    overflow: auto;\n",
       "  }\n",
       "  table, th, td {\n",
       "    border: 1px solid black;\n",
       "    border-collapse: collapse;\n",
       "  }\n",
       "  th, td {\n",
       "    padding: 5px;\n",
       "  }\n",
       "  th {\n",
       "    text-align: left;\n",
       "  }\n",
       "</style><div class='table-result-container'><table class='table-result'><thead style='background-color: white'><tr><th>col_name</th><th>data_type</th><th>comment</th></tr></thead><tbody><tr><td>Time</td><td>double</td><td>null</td></tr><tr><td>V1</td><td>double</td><td>null</td></tr><tr><td>V2</td><td>double</td><td>null</td></tr><tr><td>V3</td><td>double</td><td>null</td></tr><tr><td>V4</td><td>double</td><td>null</td></tr><tr><td>V5</td><td>double</td><td>null</td></tr><tr><td>V6</td><td>double</td><td>null</td></tr><tr><td>V7</td><td>double</td><td>null</td></tr><tr><td>V8</td><td>double</td><td>null</td></tr><tr><td>V9</td><td>double</td><td>null</td></tr><tr><td>V10</td><td>double</td><td>null</td></tr><tr><td>V11</td><td>double</td><td>null</td></tr><tr><td>V12</td><td>double</td><td>null</td></tr><tr><td>V13</td><td>double</td><td>null</td></tr><tr><td>V14</td><td>double</td><td>null</td></tr><tr><td>V15</td><td>double</td><td>null</td></tr><tr><td>V16</td><td>double</td><td>null</td></tr><tr><td>V17</td><td>double</td><td>null</td></tr><tr><td>V18</td><td>double</td><td>null</td></tr><tr><td>V19</td><td>double</td><td>null</td></tr><tr><td>V20</td><td>double</td><td>null</td></tr><tr><td>V21</td><td>double</td><td>null</td></tr><tr><td>V22</td><td>double</td><td>null</td></tr><tr><td>V23</td><td>double</td><td>null</td></tr><tr><td>V24</td><td>double</td><td>null</td></tr><tr><td>V25</td><td>double</td><td>null</td></tr><tr><td>V26</td><td>double</td><td>null</td></tr><tr><td>V27</td><td>double</td><td>null</td></tr><tr><td>V28</td><td>double</td><td>null</td></tr><tr><td>Amount</td><td>double</td><td>null</td></tr><tr><td>Class</td><td>int</td><td>null</td></tr></tbody></table></div>"
      ]
     },
     "metadata": {
      "application/vnd.databricks.v1+output": {
       "addedWidgets": {},
       "aggData": [],
       "aggError": "",
       "aggOverflow": false,
       "aggSchema": [],
       "aggSeriesLimitReached": false,
       "aggType": "",
       "arguments": {},
       "columnCustomDisplayInfos": {},
       "data": [
        [
         "Time",
         "double",
         null
        ],
        [
         "V1",
         "double",
         null
        ],
        [
         "V2",
         "double",
         null
        ],
        [
         "V3",
         "double",
         null
        ],
        [
         "V4",
         "double",
         null
        ],
        [
         "V5",
         "double",
         null
        ],
        [
         "V6",
         "double",
         null
        ],
        [
         "V7",
         "double",
         null
        ],
        [
         "V8",
         "double",
         null
        ],
        [
         "V9",
         "double",
         null
        ],
        [
         "V10",
         "double",
         null
        ],
        [
         "V11",
         "double",
         null
        ],
        [
         "V12",
         "double",
         null
        ],
        [
         "V13",
         "double",
         null
        ],
        [
         "V14",
         "double",
         null
        ],
        [
         "V15",
         "double",
         null
        ],
        [
         "V16",
         "double",
         null
        ],
        [
         "V17",
         "double",
         null
        ],
        [
         "V18",
         "double",
         null
        ],
        [
         "V19",
         "double",
         null
        ],
        [
         "V20",
         "double",
         null
        ],
        [
         "V21",
         "double",
         null
        ],
        [
         "V22",
         "double",
         null
        ],
        [
         "V23",
         "double",
         null
        ],
        [
         "V24",
         "double",
         null
        ],
        [
         "V25",
         "double",
         null
        ],
        [
         "V26",
         "double",
         null
        ],
        [
         "V27",
         "double",
         null
        ],
        [
         "V28",
         "double",
         null
        ],
        [
         "Amount",
         "double",
         null
        ],
        [
         "Class",
         "int",
         null
        ]
       ],
       "datasetInfos": [],
       "dbfsResultPath": null,
       "isJsonSchema": true,
       "metadata": {},
       "overflow": false,
       "plotOptions": {
        "customPlotOptions": {},
        "displayType": "table",
        "pivotAggregation": null,
        "pivotColumns": null,
        "xColumns": null,
        "yColumns": null
       },
       "removedWidgets": [],
       "schema": [
        {
         "metadata": "{\"comment\":\"name of the column\"}",
         "name": "col_name",
         "type": "\"string\""
        },
        {
         "metadata": "{\"comment\":\"data type of the column\"}",
         "name": "data_type",
         "type": "\"string\""
        },
        {
         "metadata": "{\"comment\":\"comment of the column\"}",
         "name": "comment",
         "type": "\"string\""
        }
       ],
       "type": "table"
      }
     },
     "output_type": "display_data"
    }
   ],
   "source": [
    "%sql\n",
    "DESCRIBE creditcard_transactions;"
   ]
  },
  {
   "cell_type": "code",
   "execution_count": 0,
   "metadata": {
    "application/vnd.databricks.v1+cell": {
     "cellMetadata": {
      "byteLimit": 2048000,
      "implicitDf": true,
      "rowLimit": 10000
     },
     "inputWidgets": {},
     "nuid": "414065fe-09bd-4a38-b451-fd704fc703b5",
     "showTitle": false,
     "tableResultSettingsMap": {},
     "title": ""
    }
   },
   "outputs": [
    {
     "output_type": "display_data",
     "data": {
      "text/html": [
       "<style scoped>\n",
       "  .table-result-container {\n",
       "    max-height: 300px;\n",
       "    overflow: auto;\n",
       "  }\n",
       "  table, th, td {\n",
       "    border: 1px solid black;\n",
       "    border-collapse: collapse;\n",
       "  }\n",
       "  th, td {\n",
       "    padding: 5px;\n",
       "  }\n",
       "  th {\n",
       "    text-align: left;\n",
       "  }\n",
       "</style><div class='table-result-container'><table class='table-result'><thead style='background-color: white'><tr><th>Min_Amount</th><th>Max_Amount</th><th>Avg_Amount</th></tr></thead><tbody><tr><td>0.0</td><td>25691.16</td><td>88.34961925093698</td></tr></tbody></table></div>"
      ]
     },
     "metadata": {
      "application/vnd.databricks.v1+output": {
       "addedWidgets": {},
       "aggData": [],
       "aggError": "",
       "aggOverflow": false,
       "aggSchema": [],
       "aggSeriesLimitReached": false,
       "aggType": "",
       "arguments": {},
       "columnCustomDisplayInfos": {},
       "data": [
        [
         0.0,
         25691.16,
         88.34961925093698
        ]
       ],
       "datasetInfos": [],
       "dbfsResultPath": null,
       "isJsonSchema": true,
       "metadata": {},
       "overflow": false,
       "plotOptions": {
        "customPlotOptions": {},
        "displayType": "table",
        "pivotAggregation": null,
        "pivotColumns": null,
        "xColumns": null,
        "yColumns": null
       },
       "removedWidgets": [],
       "schema": [
        {
         "metadata": "{}",
         "name": "Min_Amount",
         "type": "\"double\""
        },
        {
         "metadata": "{}",
         "name": "Max_Amount",
         "type": "\"double\""
        },
        {
         "metadata": "{}",
         "name": "Avg_Amount",
         "type": "\"double\""
        }
       ],
       "type": "table"
      }
     },
     "output_type": "display_data"
    }
   ],
   "source": [
    "%sql\n",
    "SELECT \n",
    "    MIN(Amount) AS Min_Amount,\n",
    "    MAX(Amount) AS Max_Amount,\n",
    "    AVG(Amount) AS Avg_Amount\n",
    "FROM creditcard_transactions;"
   ]
  },
  {
   "cell_type": "code",
   "execution_count": 0,
   "metadata": {
    "application/vnd.databricks.v1+cell": {
     "cellMetadata": {
      "byteLimit": 2048000,
      "implicitDf": true,
      "rowLimit": 10000
     },
     "inputWidgets": {},
     "nuid": "b4eefa20-1d70-41ec-b69e-1c69f915d37e",
     "showTitle": false,
     "tableResultSettingsMap": {},
     "title": ""
    }
   },
   "outputs": [
    {
     "output_type": "display_data",
     "data": {
      "text/html": [
       "<style scoped>\n",
       "  .table-result-container {\n",
       "    max-height: 300px;\n",
       "    overflow: auto;\n",
       "  }\n",
       "  table, th, td {\n",
       "    border: 1px solid black;\n",
       "    border-collapse: collapse;\n",
       "  }\n",
       "  th, td {\n",
       "    padding: 5px;\n",
       "  }\n",
       "  th {\n",
       "    text-align: left;\n",
       "  }\n",
       "</style><div class='table-result-container'><table class='table-result'><thead style='background-color: white'><tr><th>Missing_Time</th><th>Missing_Amount</th><th>Missing_Class</th></tr></thead><tbody><tr><td>0</td><td>0</td><td>0</td></tr></tbody></table></div>"
      ]
     },
     "metadata": {
      "application/vnd.databricks.v1+output": {
       "addedWidgets": {},
       "aggData": [],
       "aggError": "",
       "aggOverflow": false,
       "aggSchema": [],
       "aggSeriesLimitReached": false,
       "aggType": "",
       "arguments": {},
       "columnCustomDisplayInfos": {},
       "data": [
        [
         0,
         0,
         0
        ]
       ],
       "datasetInfos": [],
       "dbfsResultPath": null,
       "isJsonSchema": true,
       "metadata": {},
       "overflow": false,
       "plotOptions": {
        "customPlotOptions": {},
        "displayType": "table",
        "pivotAggregation": null,
        "pivotColumns": null,
        "xColumns": null,
        "yColumns": null
       },
       "removedWidgets": [],
       "schema": [
        {
         "metadata": "{}",
         "name": "Missing_Time",
         "type": "\"long\""
        },
        {
         "metadata": "{}",
         "name": "Missing_Amount",
         "type": "\"long\""
        },
        {
         "metadata": "{}",
         "name": "Missing_Class",
         "type": "\"long\""
        }
       ],
       "type": "table"
      }
     },
     "output_type": "display_data"
    }
   ],
   "source": [
    "%sql\n",
    "SELECT \n",
    "    SUM(CASE WHEN Time IS NULL THEN 1 ELSE 0 END) AS Missing_Time,\n",
    "    SUM(CASE WHEN Amount IS NULL THEN 1 ELSE 0 END) AS Missing_Amount,\n",
    "    SUM(CASE WHEN Class IS NULL THEN 1 ELSE 0 END) AS Missing_Class\n",
    "FROM creditcard_transactions;"
   ]
  },
  {
   "cell_type": "code",
   "execution_count": 0,
   "metadata": {
    "application/vnd.databricks.v1+cell": {
     "cellMetadata": {
      "byteLimit": 2048000,
      "implicitDf": true,
      "rowLimit": 10000
     },
     "inputWidgets": {},
     "nuid": "9c899295-b375-4a33-abc9-50b0002f0229",
     "showTitle": false,
     "tableResultSettingsMap": {},
     "title": ""
    }
   },
   "outputs": [
    {
     "output_type": "display_data",
     "data": {
      "text/html": [
       "<style scoped>\n",
       "  .table-result-container {\n",
       "    max-height: 300px;\n",
       "    overflow: auto;\n",
       "  }\n",
       "  table, th, td {\n",
       "    border: 1px solid black;\n",
       "    border-collapse: collapse;\n",
       "  }\n",
       "  th, td {\n",
       "    padding: 5px;\n",
       "  }\n",
       "  th {\n",
       "    text-align: left;\n",
       "  }\n",
       "</style><div class='table-result-container'><table class='table-result'><thead style='background-color: white'><tr><th>duplicate_count</th></tr></thead><tbody><tr><td>1081</td></tr></tbody></table></div>"
      ]
     },
     "metadata": {
      "application/vnd.databricks.v1+output": {
       "addedWidgets": {},
       "aggData": [],
       "aggError": "",
       "aggOverflow": false,
       "aggSchema": [],
       "aggSeriesLimitReached": false,
       "aggType": "",
       "arguments": {},
       "columnCustomDisplayInfos": {},
       "data": [
        [
         1081
        ]
       ],
       "datasetInfos": [],
       "dbfsResultPath": null,
       "isJsonSchema": true,
       "metadata": {},
       "overflow": false,
       "plotOptions": {
        "customPlotOptions": {},
        "displayType": "table",
        "pivotAggregation": null,
        "pivotColumns": null,
        "xColumns": null,
        "yColumns": null
       },
       "removedWidgets": [],
       "schema": [
        {
         "metadata": "{}",
         "name": "duplicate_count",
         "type": "\"long\""
        }
       ],
       "type": "table"
      }
     },
     "output_type": "display_data"
    }
   ],
   "source": [
    "%sql\n",
    "SELECT COUNT(*) - COUNT(DISTINCT *) AS duplicate_count FROM creditcard_transactions;"
   ]
  },
  {
   "cell_type": "markdown",
   "metadata": {
    "application/vnd.databricks.v1+cell": {
     "cellMetadata": {
      "byteLimit": 2048000,
      "rowLimit": 10000
     },
     "inputWidgets": {},
     "nuid": "cb09696e-295d-4ffe-99bd-d8a290c6d195",
     "showTitle": false,
     "tableResultSettingsMap": {},
     "title": ""
    }
   },
   "source": [
    "We used Spark SQL to explore and clean the dataset.\n",
    "\n",
    "#### Key Observations:\n",
    "- The dataset contains 31 features (`Time`, `Amount`, `V1-V28`, and `Class`).\n",
    "- Schema inspection confirmed that all features are numerical.\n",
    "- No missing values were found in any column.\n",
    "- 1,081 duplicate rows were detected."
   ]
  },
  {
   "cell_type": "markdown",
   "metadata": {
    "application/vnd.databricks.v1+cell": {
     "cellMetadata": {
      "byteLimit": 2048000,
      "rowLimit": 10000
     },
     "inputWidgets": {},
     "nuid": "7ca28ae6-a63d-4d60-886f-a1ef467d01fc",
     "showTitle": false,
     "tableResultSettingsMap": {},
     "title": ""
    }
   },
   "source": [
    "### 2. Handling Missing Values, Duplicates & Transformations Using Spark DataFrames"
   ]
  },
  {
   "cell_type": "code",
   "execution_count": 0,
   "metadata": {
    "application/vnd.databricks.v1+cell": {
     "cellMetadata": {
      "byteLimit": 2048000,
      "rowLimit": 10000
     },
     "inputWidgets": {},
     "nuid": "0ca2d2fd-03c4-40a7-8e90-6fb659c94f5d",
     "showTitle": false,
     "tableResultSettingsMap": {},
     "title": ""
    }
   },
   "outputs": [
    {
     "output_type": "stream",
     "name": "stdout",
     "output_type": "stream",
     "text": [
      "Number of duplicate rows: 1081\n"
     ]
    }
   ],
   "source": [
    "# Count duplicate rows\n",
    "duplicate_count = df.count() - df.dropDuplicates().count()\n",
    "print(f\"Number of duplicate rows: {duplicate_count}\")\n",
    "\n",
    "# Remove duplicates\n",
    "df = df.dropDuplicates()"
   ]
  },
  {
   "cell_type": "code",
   "execution_count": 0,
   "metadata": {
    "application/vnd.databricks.v1+cell": {
     "cellMetadata": {
      "byteLimit": 2048000,
      "rowLimit": 10000
     },
     "inputWidgets": {},
     "nuid": "9df1b63c-68ef-4b7f-a244-f76afeef3fd7",
     "showTitle": false,
     "tableResultSettingsMap": {},
     "title": ""
    }
   },
   "outputs": [],
   "source": [
    "from pyspark.sql.types import IntegerType, DoubleType\n",
    "\n",
    "df = df.withColumn(\"Time\", df[\"Time\"].cast(IntegerType()))\n",
    "df = df.withColumn(\"Amount\", df[\"Amount\"].cast(DoubleType()))\n",
    "df = df.withColumn(\"Class\", df[\"Class\"].cast(IntegerType()))"
   ]
  },
  {
   "cell_type": "markdown",
   "metadata": {
    "application/vnd.databricks.v1+cell": {
     "cellMetadata": {
      "byteLimit": 2048000,
      "rowLimit": 10000
     },
     "inputWidgets": {},
     "nuid": "8f77719b-f2f8-48b0-a2fc-ac22e8508655",
     "showTitle": false,
     "tableResultSettingsMap": {},
     "title": ""
    }
   },
   "source": [
    "We used Spark DataFrames for data preprocessing:\n",
    "- Removed duplicates to ensure data integrity.\n",
    "- Converted data types for efficient processing:\n",
    "  - Time → Integer\n",
    "  - Amount → Double\n",
    "  - Class → Integer"
   ]
  },
  {
   "cell_type": "markdown",
   "metadata": {
    "application/vnd.databricks.v1+cell": {
     "cellMetadata": {
      "byteLimit": 2048000,
      "rowLimit": 10000
     },
     "inputWidgets": {},
     "nuid": "8383ae76-bd01-472c-acee-43e2ffea2120",
     "showTitle": false,
     "tableResultSettingsMap": {},
     "title": ""
    }
   },
   "source": [
    "### 3. Optimizing Data Storage Using Parquet"
   ]
  },
  {
   "cell_type": "code",
   "execution_count": 0,
   "metadata": {
    "application/vnd.databricks.v1+cell": {
     "cellMetadata": {
      "byteLimit": 2048000,
      "rowLimit": 10000
     },
     "inputWidgets": {},
     "nuid": "eda1bd8b-eae6-4811-aa5d-57cec4ecafb1",
     "showTitle": false,
     "tableResultSettingsMap": {},
     "title": ""
    }
   },
   "outputs": [
    {
     "output_type": "stream",
     "name": "stdout",
     "output_type": "stream",
     "text": [
      "+----+------------------+------------------+-----------------+-------------------+-------------------+------------------+-----------------+-----------------+------------------+-------------------+------------------+------------------+-------------------+------------------+------------------+--------------------+-------------------+------------------+------------------+------------------+--------------------+------------------+-------------------+------------------+-------------------+------------------+--------------------+------------------+------+-----+\n|Time|                V1|                V2|               V3|                 V4|                 V5|                V6|               V7|               V8|                V9|                V10|               V11|               V12|                V13|               V14|               V15|                 V16|                V17|               V18|               V19|               V20|                 V21|               V22|                V23|               V24|                V25|               V26|                 V27|               V28|Amount|Class|\n+----+------------------+------------------+-----------------+-------------------+-------------------+------------------+-----------------+-----------------+------------------+-------------------+------------------+------------------+-------------------+------------------+------------------+--------------------+-------------------+------------------+------------------+------------------+--------------------+------------------+-------------------+------------------+-------------------+------------------+--------------------+------------------+------+-----+\n|  35|  1.38639697419213|-0.794209465382612|0.778224190591254| -0.864708433897642|  -1.06413227965342| 0.351296173582744|-1.19145458338703|0.052685634312249|-0.304404039275229|  0.576516808924066| -1.63111176189277|0.0425595121222894|   2.04789831589105|-0.739338428608896|  1.45622204419365|  -0.272049582980028| -0.932007398445801|  1.92653220035244|-0.659939172907678|-0.273032886609131|  -0.228726645592863|-0.123522420123964| -0.131025121563502|-0.929668178912028|  0.181379006488932|  1.19492806430879| 5.31331886203401E-4|0.0199106229397932|  30.9|    0|\n| 209|-0.742877145631453| 0.563251742882704| 1.20724326284771|  0.912388003754464|   1.05379070530765| 0.574722633310081|0.215632907280767|0.253663165164837|-0.434722395514026|-0.0480105165376562| 0.252837087913415| 0.432428929925016| -0.429693555465635| 0.210474808994396| -0.52915389274327|  -0.654788127064969|-0.0113316441174113|0.0753684937367683|  1.08980618009368|-0.118911673903155|-0.00717801527266781| 0.166434241336789| -0.370094052141089|-0.793211476482979|-0.0146474171227271|  -0.2512522016934|  0.0863128210414382|0.0892173785534057|  1.19|    0|\n| 426| -1.93205540371232|  1.72461780176378| 1.28822881142765| -0.396997995213887| -0.140202424316537|  2.47052082570381|-1.86529822066808|-5.18685485771027|  0.79476354237478|  0.155379390635381|0.0345173169570061| 0.906737901095801|-0.0271717763506107|-0.404303277477776|-0.473949407683883|   0.274034093000964| -0.222340225774832| 0.416883166963647| 0.363446064493055| -1.10865819105523|    5.27342004756246| -1.68199744837567|  0.526024517545925| -1.20717867391961|-0.0173687827469741| 0.376704272786421|   0.139676264525891|-0.164094108263199| 16.19|    0|\n| 676|-0.883675575304952|  1.10810484117811|0.616161203805343|-0.0426575320577816|-0.0113608892342126|-0.844864086859569|0.614614773866631|0.354251290787055| -1.02266238933565| -0.319390156743834|  1.09410451900099| 0.913941284000065|  0.261729981221331| 0.763568531485535|-0.252119145554405|   0.175754389046748| -0.393066414232752| 0.207546048283341| 0.287488644990334| 0.108941396691971|   0.150457985072311| 0.307372455214051| -0.016331727132128| 0.363016496084483| -0.248441055011293| 0.253435131227512|   0.201437412859496| 0.118363918876654| 39.05|    0|\n| 713|-0.586124743332143| 0.575229380892446| 2.24351085752192|  0.383733213629503| -0.540452136122008|0.0999526406786678|0.187425597215762|0.254016040369827| 0.538351975781962| -0.713622171881561|-0.627298290880437| 0.141771623769707| -0.660308579142874|-0.422782418179525|-0.335185327895202|-0.00139964968952482| -0.183300443879343|-0.510614961894523| -1.50129225777478|-0.306503642087708|  0.0845028551590161| 0.345636645537861|0.00414628867695771| 0.365041316474066| -0.318674328445481|-0.618210192524833|-0.00238335760326768|0.0602527846152672| 33.99|    0|\n+----+------------------+------------------+-----------------+-------------------+-------------------+------------------+-----------------+-----------------+------------------+-------------------+------------------+------------------+-------------------+------------------+------------------+--------------------+-------------------+------------------+------------------+------------------+--------------------+------------------+-------------------+------------------+-------------------+------------------+--------------------+------------------+------+-----+\nonly showing top 5 rows\n\n"
     ]
    }
   ],
   "source": [
    "# Save cleaned dataset as Parquet\n",
    "df.write.mode(\"overwrite\").parquet(\"/FileStore/user/creditcard_parquet\")\n",
    "\n",
    "# Reload dataset in optimized format\n",
    "df_parquet = spark.read.parquet(\"/FileStore/user/creditcard_parquet\")\n",
    "df_parquet.show(5)"
   ]
  },
  {
   "cell_type": "markdown",
   "metadata": {
    "application/vnd.databricks.v1+cell": {
     "cellMetadata": {
      "byteLimit": 2048000,
      "rowLimit": 10000
     },
     "inputWidgets": {},
     "nuid": "89c2ab87-df3c-4828-b82c-9515c2904670",
     "showTitle": false,
     "tableResultSettingsMap": {},
     "title": ""
    }
   },
   "source": [
    "- The cleaned dataset was saved in **Parquet format** for efficient querying and processing in Spark.\n",
    "- This ensures **faster read/write operations** compared to CSV.\n",
    "\n",
    "This completes **Phase 2: Data Ingestion & Preprocessing**."
   ]
  },
  {
   "cell_type": "markdown",
   "metadata": {
    "application/vnd.databricks.v1+cell": {
     "cellMetadata": {
      "byteLimit": 2048000,
      "rowLimit": 10000
     },
     "inputWidgets": {},
     "nuid": "16f93769-c0d3-429c-9aad-6df36917d633",
     "showTitle": false,
     "tableResultSettingsMap": {},
     "title": ""
    }
   },
   "source": [
    "## Phase 3: Exploratory Data Analysis (EDA)"
   ]
  },
  {
   "cell_type": "markdown",
   "metadata": {
    "application/vnd.databricks.v1+cell": {
     "cellMetadata": {
      "byteLimit": 2048000,
      "rowLimit": 10000
     },
     "inputWidgets": {},
     "nuid": "f00d80d4-c426-4cca-b7cb-888e72dbe4dc",
     "showTitle": false,
     "tableResultSettingsMap": {},
     "title": ""
    }
   },
   "source": [
    "### 1. Summary Statistics Using Spark SQL"
   ]
  },
  {
   "cell_type": "code",
   "execution_count": 0,
   "metadata": {
    "application/vnd.databricks.v1+cell": {
     "cellMetadata": {
      "byteLimit": 2048000,
      "implicitDf": true,
      "rowLimit": 10000
     },
     "inputWidgets": {},
     "nuid": "1e639135-11f7-44d1-b4f3-b4c395b730bb",
     "showTitle": false,
     "tableResultSettingsMap": {},
     "title": ""
    }
   },
   "outputs": [
    {
     "output_type": "display_data",
     "data": {
      "text/html": [
       "<style scoped>\n",
       "  .table-result-container {\n",
       "    max-height: 300px;\n",
       "    overflow: auto;\n",
       "  }\n",
       "  table, th, td {\n",
       "    border: 1px solid black;\n",
       "    border-collapse: collapse;\n",
       "  }\n",
       "  th, td {\n",
       "    padding: 5px;\n",
       "  }\n",
       "  th {\n",
       "    text-align: left;\n",
       "  }\n",
       "</style><div class='table-result-container'><table class='table-result'><thead style='background-color: white'><tr><th>Min_Amount</th><th>Max_Amount</th><th>Avg_Amount</th><th>Std_Dev_Amount</th><th>Min_Time</th><th>Max_Time</th><th>Avg_Time</th><th>Std_Dev_Time</th></tr></thead><tbody><tr><td>0.0</td><td>25691.16</td><td>88.34961925093698</td><td>250.12010924018836</td><td>0.0</td><td>172792.0</td><td>94813.85957508067</td><td>47488.145954566266</td></tr></tbody></table></div>"
      ]
     },
     "metadata": {
      "application/vnd.databricks.v1+output": {
       "addedWidgets": {},
       "aggData": [],
       "aggError": "",
       "aggOverflow": false,
       "aggSchema": [],
       "aggSeriesLimitReached": false,
       "aggType": "",
       "arguments": {},
       "columnCustomDisplayInfos": {},
       "data": [
        [
         0.0,
         25691.16,
         88.34961925093698,
         250.12010924018836,
         0.0,
         172792.0,
         94813.85957508067,
         47488.145954566266
        ]
       ],
       "datasetInfos": [],
       "dbfsResultPath": null,
       "isJsonSchema": true,
       "metadata": {},
       "overflow": false,
       "plotOptions": {
        "customPlotOptions": {},
        "displayType": "table",
        "pivotAggregation": null,
        "pivotColumns": null,
        "xColumns": null,
        "yColumns": null
       },
       "removedWidgets": [],
       "schema": [
        {
         "metadata": "{}",
         "name": "Min_Amount",
         "type": "\"double\""
        },
        {
         "metadata": "{}",
         "name": "Max_Amount",
         "type": "\"double\""
        },
        {
         "metadata": "{}",
         "name": "Avg_Amount",
         "type": "\"double\""
        },
        {
         "metadata": "{}",
         "name": "Std_Dev_Amount",
         "type": "\"double\""
        },
        {
         "metadata": "{}",
         "name": "Min_Time",
         "type": "\"double\""
        },
        {
         "metadata": "{}",
         "name": "Max_Time",
         "type": "\"double\""
        },
        {
         "metadata": "{}",
         "name": "Avg_Time",
         "type": "\"double\""
        },
        {
         "metadata": "{}",
         "name": "Std_Dev_Time",
         "type": "\"double\""
        }
       ],
       "type": "table"
      }
     },
     "output_type": "display_data"
    }
   ],
   "source": [
    "%sql\n",
    "SELECT \n",
    "    MIN(Amount) AS Min_Amount,\n",
    "    MAX(Amount) AS Max_Amount,\n",
    "    AVG(Amount) AS Avg_Amount,\n",
    "    STDDEV(Amount) AS Std_Dev_Amount,\n",
    "    MIN(Time) AS Min_Time,\n",
    "    MAX(Time) AS Max_Time,\n",
    "    AVG(Time) AS Avg_Time,\n",
    "    STDDEV(Time) AS Std_Dev_Time\n",
    "FROM creditcard_transactions;"
   ]
  },
  {
   "cell_type": "markdown",
   "metadata": {
    "application/vnd.databricks.v1+cell": {
     "cellMetadata": {
      "byteLimit": 2048000,
      "rowLimit": 10000
     },
     "inputWidgets": {},
     "nuid": "98162b41-b40c-478c-b7a2-0b36bece5511",
     "showTitle": false,
     "tableResultSettingsMap": {},
     "title": ""
    }
   },
   "source": [
    "%md\n",
    "To analyze transaction trends, we generated summary statistics for transaction amounts and time using Spark SQL.\n",
    "\n",
    "#### Results:\n",
    "| **Metric**         | **Transaction Amount ($)** | **Transaction Time (seconds)** |\n",
    "|--------------------|-------------------------|-------------------------------|\n",
    "| **Minimum**       | $0.00                    | 0                              |\n",
    "| **Maximum**       | $25,691.16               | 172,792                        |\n",
    "| **Average**       | $88.35                    | 94,813.86                       |\n",
    "| **Standard Deviation** | $250.12               | 47,488.15                      |\n",
    "\n",
    "#### Key Observations:\n",
    "- Transaction amounts vary significantly (ranging from $0 to over $25,000).\n",
    "- The average transaction amount is $88.35, but the high standard deviation ($250.12) indicates a wide spread of values.\n",
    "- Transactions occur over a long time range (up to 172,792 seconds), with an average timestamp of ~94,814 seconds."
   ]
  },
  {
   "cell_type": "markdown",
   "metadata": {
    "application/vnd.databricks.v1+cell": {
     "cellMetadata": {
      "byteLimit": 2048000,
      "rowLimit": 10000
     },
     "inputWidgets": {},
     "nuid": "fda1d26d-0f04-4b90-86f0-0dc853ff8180",
     "showTitle": false,
     "tableResultSettingsMap": {},
     "title": ""
    }
   },
   "source": [
    "### 2. Fraud vs. Legitimate Transaction Statistics Using Spark SQL"
   ]
  },
  {
   "cell_type": "code",
   "execution_count": 0,
   "metadata": {
    "application/vnd.databricks.v1+cell": {
     "cellMetadata": {
      "byteLimit": 2048000,
      "implicitDf": true,
      "rowLimit": 10000
     },
     "inputWidgets": {},
     "nuid": "4bd056e1-89d3-4ea2-9ded-e491d02d1dcf",
     "showTitle": false,
     "tableResultSettingsMap": {},
     "title": ""
    }
   },
   "outputs": [
    {
     "output_type": "display_data",
     "data": {
      "text/html": [
       "<style scoped>\n",
       "  .table-result-container {\n",
       "    max-height: 300px;\n",
       "    overflow: auto;\n",
       "  }\n",
       "  table, th, td {\n",
       "    border: 1px solid black;\n",
       "    border-collapse: collapse;\n",
       "  }\n",
       "  th, td {\n",
       "    padding: 5px;\n",
       "  }\n",
       "  th {\n",
       "    text-align: left;\n",
       "  }\n",
       "</style><div class='table-result-container'><table class='table-result'><thead style='background-color: white'><tr><th>Class</th><th>Transaction_Count</th><th>Min_Amount</th><th>Max_Amount</th><th>Avg_Amount</th><th>Std_Dev_Amount</th></tr></thead><tbody><tr><td>1</td><td>492</td><td>0.0</td><td>2125.87</td><td>122.21132113821139</td><td>256.6832882977121</td></tr><tr><td>0</td><td>284315</td><td>0.0</td><td>25691.16</td><td>88.29102242231887</td><td>250.10509222589212</td></tr></tbody></table></div>"
      ]
     },
     "metadata": {
      "application/vnd.databricks.v1+output": {
       "addedWidgets": {},
       "aggData": [],
       "aggError": "",
       "aggOverflow": false,
       "aggSchema": [],
       "aggSeriesLimitReached": false,
       "aggType": "",
       "arguments": {},
       "columnCustomDisplayInfos": {},
       "data": [
        [
         1,
         492,
         0.0,
         2125.87,
         122.21132113821139,
         256.6832882977121
        ],
        [
         0,
         284315,
         0.0,
         25691.16,
         88.29102242231887,
         250.10509222589212
        ]
       ],
       "datasetInfos": [],
       "dbfsResultPath": null,
       "isJsonSchema": true,
       "metadata": {},
       "overflow": false,
       "plotOptions": {
        "customPlotOptions": {},
        "displayType": "table",
        "pivotAggregation": null,
        "pivotColumns": null,
        "xColumns": null,
        "yColumns": null
       },
       "removedWidgets": [],
       "schema": [
        {
         "metadata": "{}",
         "name": "Class",
         "type": "\"integer\""
        },
        {
         "metadata": "{}",
         "name": "Transaction_Count",
         "type": "\"long\""
        },
        {
         "metadata": "{}",
         "name": "Min_Amount",
         "type": "\"double\""
        },
        {
         "metadata": "{}",
         "name": "Max_Amount",
         "type": "\"double\""
        },
        {
         "metadata": "{}",
         "name": "Avg_Amount",
         "type": "\"double\""
        },
        {
         "metadata": "{}",
         "name": "Std_Dev_Amount",
         "type": "\"double\""
        }
       ],
       "type": "table"
      }
     },
     "output_type": "display_data"
    }
   ],
   "source": [
    "%sql\n",
    "SELECT \n",
    "    Class,\n",
    "    COUNT(*) AS Transaction_Count,\n",
    "    MIN(Amount) AS Min_Amount,\n",
    "    MAX(Amount) AS Max_Amount,\n",
    "    AVG(Amount) AS Avg_Amount,\n",
    "    STDDEV(Amount) AS Std_Dev_Amount\n",
    "FROM creditcard_transactions\n",
    "GROUP BY Class;"
   ]
  },
  {
   "cell_type": "markdown",
   "metadata": {
    "application/vnd.databricks.v1+cell": {
     "cellMetadata": {
      "byteLimit": 2048000,
      "rowLimit": 10000
     },
     "inputWidgets": {},
     "nuid": "36f5ec6b-68d0-432c-8855-fc0e456ddcdc",
     "showTitle": false,
     "tableResultSettingsMap": {},
     "title": ""
    }
   },
   "source": [
    "To compare fraudulent vs. legitimate transactions, we analyzed the distribution of transaction amounts across both classes.\n",
    "\n",
    "#### Results:\n",
    "| **Class**          | **Transaction Count** | **Min Amount ($)** | **Max Amount ($)** | **Avg Amount ($)** | **Std Dev ($)** |\n",
    "|--------------------|----------------------|--------------------|--------------------|--------------------|----------------|\n",
    "| **Fraud (1)**      | 492                   | 0.00               | 2,125.87           | 122.21             | 256.68         |\n",
    "| **Legitimate (0)** | 284,315               | 0.00               | 25,691.16          | 88.29              | 250.10         |\n",
    "\n",
    "#### Key Observations:\n",
    "- Fraudulent transactions have a higher average amount ($122.21) than legitimate ones ($88.29).\n",
    "- The maximum fraud transaction is $2,125.87, whereas legitimate transactions go up to $25,691.16.\n",
    "- Fraudulent transactions have a higher standard deviation ($256.68), meaning they are more spread out compared to legitimate transactions.\n",
    "- However, fraud transactions do not necessarily involve large amounts—this suggests that amount alone is not a strong fraud indicator."
   ]
  },
  {
   "cell_type": "markdown",
   "metadata": {
    "application/vnd.databricks.v1+cell": {
     "cellMetadata": {
      "byteLimit": 2048000,
      "rowLimit": 10000
     },
     "inputWidgets": {},
     "nuid": "4d747153-a30f-48c4-b356-ca531a0aa356",
     "showTitle": false,
     "tableResultSettingsMap": {},
     "title": ""
    }
   },
   "source": [
    "### 3. Visualizing Class Distribution"
   ]
  },
  {
   "cell_type": "code",
   "execution_count": 0,
   "metadata": {
    "application/vnd.databricks.v1+cell": {
     "cellMetadata": {
      "byteLimit": 2048000,
      "rowLimit": 10000
     },
     "inputWidgets": {},
     "nuid": "90a24258-215f-4960-b003-fc229475dd60",
     "showTitle": false,
     "tableResultSettingsMap": {},
     "title": ""
    }
   },
   "outputs": [
    {
     "output_type": "stream",
     "name": "stdout",
     "output_type": "stream",
     "text": [
      "+----+------------------+------------------+-----------------+-------------------+-------------------+------------------+-----------------+-----------------+------------------+-------------------+------------------+------------------+-------------------+------------------+------------------+--------------------+-------------------+------------------+------------------+------------------+--------------------+------------------+-------------------+------------------+-------------------+------------------+--------------------+------------------+------+-----+\n|Time|                V1|                V2|               V3|                 V4|                 V5|                V6|               V7|               V8|                V9|                V10|               V11|               V12|                V13|               V14|               V15|                 V16|                V17|               V18|               V19|               V20|                 V21|               V22|                V23|               V24|                V25|               V26|                 V27|               V28|Amount|Class|\n+----+------------------+------------------+-----------------+-------------------+-------------------+------------------+-----------------+-----------------+------------------+-------------------+------------------+------------------+-------------------+------------------+------------------+--------------------+-------------------+------------------+------------------+------------------+--------------------+------------------+-------------------+------------------+-------------------+------------------+--------------------+------------------+------+-----+\n|  35|  1.38639697419213|-0.794209465382612|0.778224190591254| -0.864708433897642|  -1.06413227965342| 0.351296173582744|-1.19145458338703|0.052685634312249|-0.304404039275229|  0.576516808924066| -1.63111176189277|0.0425595121222894|   2.04789831589105|-0.739338428608896|  1.45622204419365|  -0.272049582980028| -0.932007398445801|  1.92653220035244|-0.659939172907678|-0.273032886609131|  -0.228726645592863|-0.123522420123964| -0.131025121563502|-0.929668178912028|  0.181379006488932|  1.19492806430879| 5.31331886203401E-4|0.0199106229397932|  30.9|    0|\n| 209|-0.742877145631453| 0.563251742882704| 1.20724326284771|  0.912388003754464|   1.05379070530765| 0.574722633310081|0.215632907280767|0.253663165164837|-0.434722395514026|-0.0480105165376562| 0.252837087913415| 0.432428929925016| -0.429693555465635| 0.210474808994396| -0.52915389274327|  -0.654788127064969|-0.0113316441174113|0.0753684937367683|  1.08980618009368|-0.118911673903155|-0.00717801527266781| 0.166434241336789| -0.370094052141089|-0.793211476482979|-0.0146474171227271|  -0.2512522016934|  0.0863128210414382|0.0892173785534057|  1.19|    0|\n| 426| -1.93205540371232|  1.72461780176378| 1.28822881142765| -0.396997995213887| -0.140202424316537|  2.47052082570381|-1.86529822066808|-5.18685485771027|  0.79476354237478|  0.155379390635381|0.0345173169570061| 0.906737901095801|-0.0271717763506107|-0.404303277477776|-0.473949407683883|   0.274034093000964| -0.222340225774832| 0.416883166963647| 0.363446064493055| -1.10865819105523|    5.27342004756246| -1.68199744837567|  0.526024517545925| -1.20717867391961|-0.0173687827469741| 0.376704272786421|   0.139676264525891|-0.164094108263199| 16.19|    0|\n| 676|-0.883675575304952|  1.10810484117811|0.616161203805343|-0.0426575320577816|-0.0113608892342126|-0.844864086859569|0.614614773866631|0.354251290787055| -1.02266238933565| -0.319390156743834|  1.09410451900099| 0.913941284000065|  0.261729981221331| 0.763568531485535|-0.252119145554405|   0.175754389046748| -0.393066414232752| 0.207546048283341| 0.287488644990334| 0.108941396691971|   0.150457985072311| 0.307372455214051| -0.016331727132128| 0.363016496084483| -0.248441055011293| 0.253435131227512|   0.201437412859496| 0.118363918876654| 39.05|    0|\n| 713|-0.586124743332143| 0.575229380892446| 2.24351085752192|  0.383733213629503| -0.540452136122008|0.0999526406786678|0.187425597215762|0.254016040369827| 0.538351975781962| -0.713622171881561|-0.627298290880437| 0.141771623769707| -0.660308579142874|-0.422782418179525|-0.335185327895202|-0.00139964968952482| -0.183300443879343|-0.510614961894523| -1.50129225777478|-0.306503642087708|  0.0845028551590161| 0.345636645537861|0.00414628867695771| 0.365041316474066| -0.318674328445481|-0.618210192524833|-0.00238335760326768|0.0602527846152672| 33.99|    0|\n+----+------------------+------------------+-----------------+-------------------+-------------------+------------------+-----------------+-----------------+------------------+-------------------+------------------+------------------+-------------------+------------------+------------------+--------------------+-------------------+------------------+------------------+------------------+--------------------+------------------+-------------------+------------------+-------------------+------------------+--------------------+------------------+------+-----+\nonly showing top 5 rows\n\n"
     ]
    }
   ],
   "source": [
    "# Load the cleaned dataset from Parquet\n",
    "df = spark.read.parquet(\"/FileStore/user/creditcard_parquet\")\n",
    "\n",
    "# Display first few rows\n",
    "df.show(5)"
   ]
  },
  {
   "cell_type": "code",
   "execution_count": 0,
   "metadata": {
    "application/vnd.databricks.v1+cell": {
     "cellMetadata": {
      "byteLimit": 2048000,
      "rowLimit": 10000
     },
     "inputWidgets": {},
     "nuid": "f50a39b3-c5b5-41f6-941f-f95f9e17723a",
     "showTitle": false,
     "tableResultSettingsMap": {},
     "title": ""
    }
   },
   "outputs": [
    {
     "output_type": "stream",
     "name": "stdout",
     "output_type": "stream",
     "text": [
      "+-----+------+\n|Class| count|\n+-----+------+\n|    1|   473|\n|    0|283253|\n+-----+------+\n\n"
     ]
    }
   ],
   "source": [
    "from pyspark.sql.functions import col, count\n",
    "\n",
    "# Count the number of transactions per class\n",
    "class_distribution = df.groupBy(\"Class\").count()\n",
    "class_distribution.show()"
   ]
  },
  {
   "cell_type": "code",
   "execution_count": 0,
   "metadata": {
    "application/vnd.databricks.v1+cell": {
     "cellMetadata": {
      "byteLimit": 2048000,
      "rowLimit": 10000
     },
     "inputWidgets": {},
     "nuid": "b815ef1c-c9ba-4dd2-ae3b-70380c9e8527",
     "showTitle": false,
     "tableResultSettingsMap": {},
     "title": ""
    }
   },
   "outputs": [
    {
     "output_type": "display_data",
     "data": {
      "image/png": "[encoded data removed]"
     },
     "metadata": {
      "application/vnd.databricks.v1+output": {
       "addedWidgets": {},
       "arguments": {},
       "data": "data:image/png;base64,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\n",
       "datasetInfos": [],
       "metadata": {},
       "removedWidgets": [],
       "type": "image"
      }
     },
     "output_type": "display_data"
    }
   ],
   "source": [
    "import matplotlib.pyplot as plt\n",
    "\n",
    "# Convert Spark DataFrame to Pandas for visualization\n",
    "class_pd = class_distribution.toPandas()\n",
    "\n",
    "# Plot class distribution\n",
    "plt.figure(figsize=(6,4))\n",
    "plt.bar(class_pd[\"Class\"], class_pd[\"count\"], color=['blue', 'red'])\n",
    "plt.xticks([0,1], labels=['Legitimate (0)', 'Fraud (1)'])\n",
    "plt.xlabel(\"Transaction Class\")\n",
    "plt.ylabel(\"Count\")\n",
    "plt.title(\"Class Distribution (Fraud vs Legitimate)\")\n",
    "plt.show()\n"
   ]
  },
  {
   "cell_type": "markdown",
   "metadata": {
    "application/vnd.databricks.v1+cell": {
     "cellMetadata": {
      "byteLimit": 2048000,
      "rowLimit": 10000
     },
     "inputWidgets": {},
     "nuid": "ecbc46fe-8f4c-4728-b989-82619eefc2bb",
     "showTitle": false,
     "tableResultSettingsMap": {},
     "title": ""
    }
   },
   "source": [
    "To better understand the imbalance between legitimate and fraudulent transactions, we plotted a bar chart.\n",
    "\n",
    "#### Observations:\n",
    "- The dataset is heavily imbalanced, with 283,253 legitimate transactions and only 473 fraudulent transactions.\n",
    "- Fraudulent transactions make up only 0.167% of the dataset.\n",
    "- This imbalance can lead to biased machine learning models that favor the majority class (legitimate transactions).\n",
    "\n",
    "#### Next Steps:\n",
    "- In the modeling phase, we may consider techniques to handle class imbalance, such as:\n",
    "  - Resampling (Oversampling fraud cases or undersampling legitimate ones).\n",
    "  - Synthetic data generation (SMOTE - Synthetic Minority Over-sampling Technique).\n",
    "  - Using cost-sensitive learning methods.\n",
    "\n",
    "Next, we proceed with analyzing transaction amounts to see if fraud transactions differ in value."
   ]
  },
  {
   "cell_type": "markdown",
   "metadata": {
    "application/vnd.databricks.v1+cell": {
     "cellMetadata": {
      "byteLimit": 2048000,
      "rowLimit": 10000
     },
     "inputWidgets": {},
     "nuid": "66dad25a-c628-4d6a-849a-6bfb0ebb3f1b",
     "showTitle": false,
     "tableResultSettingsMap": {},
     "title": ""
    }
   },
   "source": [
    "### 4. Transaction Amount Distribution Analysis"
   ]
  },
  {
   "cell_type": "code",
   "execution_count": 0,
   "metadata": {
    "application/vnd.databricks.v1+cell": {
     "cellMetadata": {
      "byteLimit": 2048000,
      "rowLimit": 10000
     },
     "inputWidgets": {},
     "nuid": "5b3d0aa3-e60f-4b5c-802b-baf179734672",
     "showTitle": false,
     "tableResultSettingsMap": {},
     "title": ""
    }
   },
   "outputs": [
    {
     "output_type": "stream",
     "name": "stdout",
     "output_type": "stream",
     "text": [
      "+----------+----------+-----------------+\n|Min_Amount|Max_Amount|       Avg_Amount|\n+----------+----------+-----------------+\n|       0.0|  25691.16|88.47268731100365|\n+----------+----------+-----------------+\n\n"
     ]
    }
   ],
   "source": [
    "from pyspark.sql.functions import avg, min, max\n",
    "\n",
    "# Compute basic statistics for transaction amounts\n",
    "df.select(\n",
    "    min(\"Amount\").alias(\"Min_Amount\"),\n",
    "    max(\"Amount\").alias(\"Max_Amount\"),\n",
    "    avg(\"Amount\").alias(\"Avg_Amount\")\n",
    ").show()"
   ]
  },
  {
   "cell_type": "code",
   "execution_count": 0,
   "metadata": {
    "application/vnd.databricks.v1+cell": {
     "cellMetadata": {
      "byteLimit": 2048000,
      "rowLimit": 10000
     },
     "inputWidgets": {},
     "nuid": "2940d647-888d-4b5d-930c-bb7247878edd",
     "showTitle": false,
     "tableResultSettingsMap": {},
     "title": ""
    }
   },
   "outputs": [
    {
     "output_type": "display_data",
     "data": {
      "image/png": "[encoded data removed]"
     },
     "metadata": {
      "application/vnd.databricks.v1+output": {
       "addedWidgets": {},
       "arguments": {},
       "data": "data:image/png;base64,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\n",
       "datasetInfos": [],
       "metadata": {},
       "removedWidgets": [],
       "type": "image"
      }
     },
     "output_type": "display_data"
    }
   ],
   "source": [
    "import seaborn as sns\n",
    "import matplotlib.pyplot as plt\n",
    "\n",
    "# Convert Spark DataFrame to Pandas for visualization\n",
    "amount_pd = df.select(\"Amount\", \"Class\").toPandas()\n",
    "\n",
    "# Plot KDE distribution for fraud and non-fraud transactions\n",
    "plt.figure(figsize=(8,5))\n",
    "sns.kdeplot(amount_pd[amount_pd[\"Class\"] == 0][\"Amount\"], label=\"Legitimate\", shade=True)\n",
    "sns.kdeplot(amount_pd[amount_pd[\"Class\"] == 1][\"Amount\"], label=\"Fraud\", shade=True, color='red')\n",
    "plt.xlabel(\"Transaction Amount\")\n",
    "plt.ylabel(\"Density\")\n",
    "plt.title(\"Transaction Amount Distribution\")\n",
    "plt.legend()\n",
    "plt.show()"
   ]
  },
  {
   "cell_type": "markdown",
   "metadata": {
    "application/vnd.databricks.v1+cell": {
     "cellMetadata": {
      "byteLimit": 2048000,
      "rowLimit": 10000
     },
     "inputWidgets": {},
     "nuid": "a06ec5ba-1443-4233-b7aa-e0b79b746879",
     "showTitle": false,
     "tableResultSettingsMap": {},
     "title": ""
    }
   },
   "source": [
    "To analyze whether fraudulent transactions differ in monetary value from legitimate ones, we plotted the distribution of transaction amounts for both classes.\n",
    "\n",
    "#### Observations:\n",
    "- Most transactions, both legitimate and fraudulent, have small amounts.\n",
    "- There is a high concentration of transactions below $500, with very few high-value transactions.\n",
    "- Fraudulent transactions (red) appear to have a similar distribution to legitimate ones but are much fewer in number.\n",
    "- This suggests that fraud does not necessarily occur in large transactions, meaning high-value transactions alone are not a strong fraud indicator.\n",
    "\n",
    "#### Key Takeaways:\n",
    "- Since fraud is not strongly correlated with transaction amounts, we will need additional feature analysis to identify fraud patterns.\n",
    "- Further analysis of feature relationships and correlation with fraud is needed before modeling.\n",
    "\n",
    "Next, we proceed with feature correlation analysis to examine relationships between the PCA-transformed features."
   ]
  },
  {
   "cell_type": "markdown",
   "metadata": {
    "application/vnd.databricks.v1+cell": {
     "cellMetadata": {
      "byteLimit": 2048000,
      "rowLimit": 10000
     },
     "inputWidgets": {},
     "nuid": "4ff62122-7ccf-44f6-bf89-2c6e74964d28",
     "showTitle": false,
     "tableResultSettingsMap": {},
     "title": ""
    }
   },
   "source": [
    "### 5. Feature Correlation Analysis"
   ]
  },
  {
   "cell_type": "code",
   "execution_count": 0,
   "metadata": {
    "application/vnd.databricks.v1+cell": {
     "cellMetadata": {
      "byteLimit": 2048000,
      "rowLimit": 10000
     },
     "inputWidgets": {},
     "nuid": "51a97059-0048-4374-85e2-2fe9c8912c12",
     "showTitle": false,
     "tableResultSettingsMap": {},
     "title": ""
    }
   },
   "outputs": [
    {
     "output_type": "display_data",
     "data": {
      "application/vnd.databricks.v1+bamboolib_hint": "{\"pd.DataFrames\": [\"class_pd\", \"amount_pd\"], \"version\": \"0.0.1\"}",
      "text/plain": []
     },
     "metadata": {},
     "output_type": "display_data"
    },
    {
     "output_type": "display_data",
     "data": {
      "image/png": "[encoded data removed]"
     },
     "metadata": {
      "application/vnd.databricks.v1+output": {
       "addedWidgets": {},
       "arguments": {},
       "data": "data:image/png;base64,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\n",
       "datasetInfos": [],
       "metadata": {},
       "removedWidgets": [],
       "type": "image"
      }
     },
     "output_type": "display_data"
    }
   ],
   "source": [
    "import pandas as pd\n",
    "import seaborn as sns\n",
    "import matplotlib.pyplot as plt\n",
    "\n",
    "# Convert Spark DataFrame to Pandas for correlation analysis\n",
    "df_pd = df.toPandas()\n",
    "\n",
    "# Compute correlation matrix\n",
    "correlation_matrix = df_pd.corr()\n",
    "\n",
    "# Plot heatmap of correlations\n",
    "plt.figure(figsize=(12,8))\n",
    "sns.heatmap(correlation_matrix, cmap=\"coolwarm\", annot=False, fmt=\".2f\")\n",
    "plt.title(\"Feature Correlation Matrix\")\n",
    "plt.show()"
   ]
  },
  {
   "cell_type": "markdown",
   "metadata": {
    "application/vnd.databricks.v1+cell": {
     "cellMetadata": {
      "byteLimit": 2048000,
      "rowLimit": 10000
     },
     "inputWidgets": {},
     "nuid": "7ea4112c-8ff0-4918-930b-9d64573b071d",
     "showTitle": false,
     "tableResultSettingsMap": {},
     "title": ""
    }
   },
   "source": [
    "To understand relationships between different features, we computed and visualized the correlation matrix.\n",
    "\n",
    "#### Observations:\n",
    "- The diagonal elements represent self-correlations (value = 1).\n",
    "- Most features have weak correlations with others, except for a few slightly correlated pairs.\n",
    "- The Class (fraud indicator) has weak correlations with other features, meaning no single feature strongly predicts fraud.\n",
    "- Time and Amount show little correlation with other variables, indicating they might not be strong fraud indicators alone.\n",
    "\n",
    "#### Key Takeaways:\n",
    "- Since features are PCA-transformed, direct interpretability is limited.\n",
    "- No strong correlations indicate that fraud detection requires a combination of multiple features rather than relying on individual ones.\n",
    "- Next Steps for Modeling:\n",
    "  - Use machine learning models that can capture complex patterns in fraud detection.\n",
    "  - Consider feature selection or engineering additional insights to improve predictive power.\n",
    "\n",
    "With this, Exploratory Data Analysis (EDA) is complete. The next step is to proceed with Predictive Modeling using Spark MLlib."
   ]
  },
  {
   "cell_type": "markdown",
   "metadata": {
    "application/vnd.databricks.v1+cell": {
     "cellMetadata": {
      "byteLimit": 2048000,
      "rowLimit": 10000
     },
     "inputWidgets": {},
     "nuid": "1ae76576-135b-4f50-95b4-b05c50666def",
     "showTitle": false,
     "tableResultSettingsMap": {},
     "title": ""
    }
   },
   "source": [
    "## Phase 4: Predictive Modeling using Spark MLlib\n",
    "\n",
    "### 1. Data Preparation - Feature Engineering"
   ]
  },
  {
   "cell_type": "code",
   "execution_count": 0,
   "metadata": {
    "application/vnd.databricks.v1+cell": {
     "cellMetadata": {
      "byteLimit": 2048000,
      "rowLimit": 10000
     },
     "inputWidgets": {},
     "nuid": "44c007c1-97b8-4c03-bb7b-8c46eebc194c",
     "showTitle": false,
     "tableResultSettingsMap": {},
     "title": ""
    }
   },
   "outputs": [],
   "source": [
    "from pyspark.ml.feature import VectorAssembler, StandardScaler\n",
    "from pyspark.ml.classification import LogisticRegression\n",
    "from pyspark.ml.evaluation import BinaryClassificationEvaluator\n",
    "from pyspark.ml.tuning import ParamGridBuilder, CrossValidator\n",
    "from pyspark.sql.functions import col"
   ]
  },
  {
   "cell_type": "code",
   "execution_count": 0,
   "metadata": {
    "application/vnd.databricks.v1+cell": {
     "cellMetadata": {
      "byteLimit": 2048000,
      "rowLimit": 10000
     },
     "inputWidgets": {},
     "nuid": "d29f4b69-c2f5-40ed-9d64-4f21a59cd736",
     "showTitle": false,
     "tableResultSettingsMap": {},
     "title": ""
    }
   },
   "outputs": [
    {
     "output_type": "stream",
     "name": "stdout",
     "output_type": "stream",
     "text": [
      "+--------------------+-----+\n|            features|Class|\n+--------------------+-----+\n|[35.0,1.386396974...|    0|\n|[209.0,-0.7428771...|    0|\n|[426.0,-1.9320554...|    0|\n|[676.0,-0.8836755...|    0|\n|[713.0,-0.5861247...|    0|\n+--------------------+-----+\nonly showing top 5 rows\n\n"
     ]
    }
   ],
   "source": [
    "# Define feature columns (excluding 'Class' as it's the target)\n",
    "feature_cols = df.columns\n",
    "feature_cols.remove(\"Class\")  # Remove the label column\n",
    "\n",
    "# Assemble feature columns into a single vector\n",
    "vector_assembler = VectorAssembler(inputCols=feature_cols, outputCol=\"features\")\n",
    "df_transformed = vector_assembler.transform(df).select(\"features\", \"Class\")\n",
    "\n",
    "# Display first few rows\n",
    "df_transformed.show(5)"
   ]
  },
  {
   "cell_type": "markdown",
   "metadata": {
    "application/vnd.databricks.v1+cell": {
     "cellMetadata": {
      "byteLimit": 2048000,
      "rowLimit": 10000
     },
     "inputWidgets": {},
     "nuid": "d3ea3b6e-9801-4f1c-bb05-8a1521a30a25",
     "showTitle": false,
     "tableResultSettingsMap": {},
     "title": ""
    }
   },
   "source": [
    "Before training our model, we transformed the dataset into a format suitable for Spark MLlib.\n",
    "\n",
    "#### Steps Taken:\n",
    "1. Feature Vectorization:\n",
    "   - Combined all features (`V1-V28`, `Amount`, `Time`) into a single feature vector using VectorAssembler.\n",
    "   - This is necessary because Spark MLlib expects a single vector column for model training.\n",
    "\n",
    "#### Sample Output (Transformed Features):\n",
    "| Features | Class (Label) |\n",
    "|-------------|------------------|\n",
    "| [35.0,1.38, ...] | 0 |\n",
    "| [209.0,-0.74, ...] | 0 |\n",
    "| [426.0,-1.93, ...] | 0 |\n",
    "| [676.0,-0.88, ...] | 0 |\n",
    "| [713.0,-0.58, ...] | 0 |"
   ]
  },
  {
   "cell_type": "markdown",
   "metadata": {
    "application/vnd.databricks.v1+cell": {
     "cellMetadata": {
      "byteLimit": 2048000,
      "rowLimit": 10000
     },
     "inputWidgets": {},
     "nuid": "6de2e177-1fe1-4b90-b6e3-71d17a072dd8",
     "showTitle": false,
     "tableResultSettingsMap": {},
     "title": ""
    }
   },
   "source": [
    "### 2. Feature Scaling - Standardization"
   ]
  },
  {
   "cell_type": "code",
   "execution_count": 0,
   "metadata": {
    "application/vnd.databricks.v1+cell": {
     "cellMetadata": {
      "byteLimit": 2048000,
      "rowLimit": 10000
     },
     "inputWidgets": {},
     "nuid": "f0f5f7e4-b545-477c-a32c-dbc8f9e5d8bf",
     "showTitle": false,
     "tableResultSettingsMap": {},
     "title": ""
    }
   },
   "outputs": [
    {
     "output_type": "stream",
     "name": "stdout",
     "output_type": "stream",
     "text": [
      "+--------------------+-----+\n|     scaled_features|Class|\n+--------------------+-----+\n|[-1.9960822646089...|    0|\n|[-1.9924176445609...|    0|\n|[-1.9878474000183...|    0|\n|[-1.9825821413287...|    0|\n|[-1.9818028830426...|    0|\n+--------------------+-----+\nonly showing top 5 rows\n\n"
     ]
    }
   ],
   "source": [
    "# Normalize the 'features' column\n",
    "scaler = StandardScaler(inputCol=\"features\", outputCol=\"scaled_features\", withStd=True, withMean=True)\n",
    "df_scaled = scaler.fit(df_transformed).transform(df_transformed).select(\"scaled_features\", \"Class\")\n",
    "\n",
    "# Display first few rows after scaling\n",
    "df_scaled.show(5)"
   ]
  },
  {
   "cell_type": "markdown",
   "metadata": {
    "application/vnd.databricks.v1+cell": {
     "cellMetadata": {
      "byteLimit": 2048000,
      "rowLimit": 10000
     },
     "inputWidgets": {},
     "nuid": "e6c0b9d7-d27a-4a90-92ec-417fce20a8e2",
     "showTitle": false,
     "tableResultSettingsMap": {},
     "title": ""
    }
   },
   "source": [
    "To ensure all features have a similar range, we applied StandardScaler to normalize the dataset.\n",
    "\n",
    "#### Why is Feature Scaling Important?\n",
    "- The `Amount` feature had a wide range (from $0 to $25,691), which could affect model training.\n",
    "- StandardScaler standardizes features by removing the mean and scaling to unit variance.\n",
    "- Ensures that all features contribute equally to the model.\n",
    "\n",
    "#### Steps Taken:\n",
    "- Applied StandardScaler to the `features` vector.\n",
    "- Generated a scaled feature vector (`scaled_features`) for modeling.\n",
    "\n",
    "#### Sample Output (After Scaling):\n",
    "| Scaled Features | Class (Label) |\n",
    "|--------------------|------------------|\n",
    "| [-1.99, 0.45, …] | 0 |\n",
    "| [-1.99, -0.30, …] | 0 |\n",
    "| [-1.98, 1.27, …] | 0 |\n",
    "| [-1.98, -0.89, …] | 0 |\n",
    "| [-1.98, -0.60, …] | 0 |"
   ]
  },
  {
   "cell_type": "markdown",
   "metadata": {
    "application/vnd.databricks.v1+cell": {
     "cellMetadata": {
      "byteLimit": 2048000,
      "rowLimit": 10000
     },
     "inputWidgets": {},
     "nuid": "7e20761c-323f-4a96-9c4c-4549fffda2d4",
     "showTitle": false,
     "tableResultSettingsMap": {},
     "title": ""
    }
   },
   "source": [
    "### 3. Splitting Data into Training and Testing Sets"
   ]
  },
  {
   "cell_type": "code",
   "execution_count": 0,
   "metadata": {
    "application/vnd.databricks.v1+cell": {
     "cellMetadata": {
      "byteLimit": 2048000,
      "rowLimit": 10000
     },
     "inputWidgets": {},
     "nuid": "cb3ca083-6a90-4373-b793-645c1bd14ea5",
     "showTitle": false,
     "tableResultSettingsMap": {},
     "title": ""
    }
   },
   "outputs": [
    {
     "output_type": "stream",
     "name": "stdout",
     "output_type": "stream",
     "text": [
      "Training Dataset Size: 227117\nTesting Dataset Size: 56609\n"
     ]
    }
   ],
   "source": [
    "# Split the data into training (80%) and testing (20%) sets\n",
    "train_df, test_df = df_scaled.randomSplit([0.8, 0.2], seed=42)\n",
    "\n",
    "# Print dataset sizes\n",
    "print(f\"Training Dataset Size: {train_df.count()}\")\n",
    "print(f\"Testing Dataset Size: {test_df.count()}\")"
   ]
  },
  {
   "cell_type": "markdown",
   "metadata": {
    "application/vnd.databricks.v1+cell": {
     "cellMetadata": {
      "byteLimit": 2048000,
      "rowLimit": 10000
     },
     "inputWidgets": {},
     "nuid": "b0a21f30-08e0-4277-bfe1-897e73976f6e",
     "showTitle": false,
     "tableResultSettingsMap": {},
     "title": ""
    }
   },
   "source": [
    "To train and evaluate our model effectively, we split the dataset into:\n",
    "- 80% Training Data → Used to train the Logistic Regression model.\n",
    "- 20% Testing Data → Used to evaluate model performance.\n",
    "\n",
    "#### Dataset Split Results:\n",
    "| Dataset | Number of Records |\n",
    "|------------|----------------------|\n",
    "| Training Set | 227,117 |\n",
    "| Testing Set | 56,609 |\n",
    "\n",
    "#### Why Splitting is Important?\n",
    "- Ensures the model learns from a portion of the data and is tested on unseen data.\n",
    "- Prevents overfitting, ensuring the model generalizes well."
   ]
  },
  {
   "cell_type": "markdown",
   "metadata": {
    "application/vnd.databricks.v1+cell": {
     "cellMetadata": {
      "byteLimit": 2048000,
      "rowLimit": 10000
     },
     "inputWidgets": {},
     "nuid": "43126efb-fa82-420b-a1f8-52c46ce61d63",
     "showTitle": false,
     "tableResultSettingsMap": {},
     "title": ""
    }
   },
   "source": [
    "### 4. Training Logistic Regression Model"
   ]
  },
  {
   "cell_type": "code",
   "execution_count": 0,
   "metadata": {
    "application/vnd.databricks.v1+cell": {
     "cellMetadata": {
      "byteLimit": 2048000,
      "rowLimit": 10000
     },
     "inputWidgets": {},
     "nuid": "0e9030f8-ee53-4826-8dd4-7c550a6c7a7d",
     "showTitle": false,
     "tableResultSettingsMap": {},
     "title": ""
    }
   },
   "outputs": [
    {
     "output_type": "stream",
     "name": "stdout",
     "output_type": "stream",
     "text": [
      "Intercept: [-8.577953152089286]\nCoefficients: [-0.20199425971343024,0.1920861497823582,-0.011978640534764056,-0.025563589446150104,0.9194796397314242,0.14765082557277442,-0.16028076321010815,-0.11991371564725728,-0.18379810021339177,-0.41157654820403117,-0.8955523196199113,-0.1399880858714632,0.1340017834398939,-0.3225493171295933,-0.5546282296372513,-0.10203890140689122,-0.141082639355881,-0.03763988370188681,-0.003831432279381193,0.09884280115025669,-0.3626036866287744,0.29302826069095494,0.4397278444018874,-0.06532791436449555,0.07248010774353283,-0.06716681074557027,0.031204731245544112,-0.3533991897111045,-0.09809508188540865,0.21487056088261802]\n"
     ]
    }
   ],
   "source": [
    "# Initialize Logistic Regression Model\n",
    "lr = LogisticRegression(featuresCol=\"scaled_features\", labelCol=\"Class\")\n",
    "\n",
    "# Train the model\n",
    "lr_model = lr.fit(train_df)\n",
    "\n",
    "# Display model coefficients\n",
    "print(f\"Intercept: {lr_model.interceptVector}\")\n",
    "print(f\"Coefficients: {lr_model.coefficients}\")"
   ]
  },
  {
   "cell_type": "markdown",
   "metadata": {
    "application/vnd.databricks.v1+cell": {
     "cellMetadata": {
      "byteLimit": 2048000,
      "rowLimit": 10000
     },
     "inputWidgets": {},
     "nuid": "c533f5a4-3715-4f81-8f4e-f13282688aa4",
     "showTitle": false,
     "tableResultSettingsMap": {},
     "title": ""
    }
   },
   "source": [
    "We trained a Logistic Regression model to classify transactions as fraudulent (1) or legitimate (0).\n",
    "\n",
    "#### Model Parameters:\n",
    "- Features Used: Scaled values of `V1-V28`, `Amount`, and `Time`.\n",
    "- Label (Target Variable): `Class` (0 = Legitimate, 1 = Fraud).\n",
    "\n",
    "#### Training Results:\n",
    "| Model Parameter | Value |\n",
    "|--------------------|----------|\n",
    "| Intercept | -8.578 |\n",
    "| Coefficients | [-0.201, 0.192, -0.011, ..., 0.214] |\n",
    "\n",
    "#### What These Values Mean:\n",
    "- Intercept (-8.578): Represents the base log-odds of a transaction being fraudulent when all features are zero.\n",
    "- Coefficients: Show the impact of each feature on fraud prediction. A positive coefficient means the feature increases fraud likelihood, while a negative coefficient reduces it."
   ]
  },
  {
   "cell_type": "markdown",
   "metadata": {
    "application/vnd.databricks.v1+cell": {
     "cellMetadata": {
      "byteLimit": 2048000,
      "rowLimit": 10000
     },
     "inputWidgets": {},
     "nuid": "8cc17248-5239-4d6b-b153-6d26d133ee65",
     "showTitle": false,
     "tableResultSettingsMap": {},
     "title": ""
    }
   },
   "source": [
    "### 5. Making Predictions on Test Data"
   ]
  },
  {
   "cell_type": "code",
   "execution_count": 0,
   "metadata": {
    "application/vnd.databricks.v1+cell": {
     "cellMetadata": {
      "byteLimit": 2048000,
      "rowLimit": 10000
     },
     "inputWidgets": {},
     "nuid": "882440f9-4970-4fb1-aaec-9f54a66a5535",
     "showTitle": false,
     "tableResultSettingsMap": {},
     "title": ""
    }
   },
   "outputs": [
    {
     "output_type": "stream",
     "name": "stdout",
     "output_type": "stream",
     "text": [
      "+--------------------+-----+----------+--------------------+\n|     scaled_features|Class|prediction|         probability|\n+--------------------+-----+----------+--------------------+\n|[-1.9965245463389...|    0|       0.0|[0.99886264920104...|\n|[-1.9958927152961...|    0|       0.0|[0.99743579432285...|\n|[-1.9954714946009...|    0|       0.0|[0.99978869933417...|\n|[-1.9948817856277...|    0|       0.0|[0.99870735950471...|\n|[-1.9941867714807...|    0|       0.0|[0.99989262610440...|\n+--------------------+-----+----------+--------------------+\nonly showing top 5 rows\n\n"
     ]
    }
   ],
   "source": [
    "# Make predictions\n",
    "predictions = lr_model.transform(test_df)\n",
    "\n",
    "# Display some sample predictions\n",
    "predictions.select(\"scaled_features\", \"Class\", \"prediction\", \"probability\").show(5)"
   ]
  },
  {
   "cell_type": "markdown",
   "metadata": {
    "application/vnd.databricks.v1+cell": {
     "cellMetadata": {
      "byteLimit": 2048000,
      "rowLimit": 10000
     },
     "inputWidgets": {},
     "nuid": "3997fef1-5f6c-46d0-83e1-0258299e8592",
     "showTitle": false,
     "tableResultSettingsMap": {},
     "title": ""
    }
   },
   "source": [
    "After training the Logistic Regression model, we tested it on the unseen test dataset.\n",
    "\n",
    "#### Prediction Output:\n",
    "| Scaled Features | Actual Class (Label) | Predicted Class | Probability (Fraud vs. Legitimate) |\n",
    "|--------------------|----------------------|----------------|----------------------------------|\n",
    "| [-1.99, 0.45, …] | 0 | 0 | [0.9988, 0.0011] |\n",
    "| [-1.99, -0.30, …] | 0 | 0 | [0.9974, 0.0025] |\n",
    "| [-1.99, 1.27, …] | 0 | 0 | [0.9997, 0.0002] |\n",
    "| [-1.99, -0.89, …] | 0 | 0 | [0.9987, 0.0012] |\n",
    "| [-1.99, -0.60, …] | 0 | 0 | [0.9998, 0.0001] |\n",
    "\n",
    "#### Key Observations:\n",
    "- The predicted class (0 or 1) matches the actual class (Class column).\n",
    "- The probability column shows the model’s confidence in each prediction:\n",
    "  - `[0.9988, 0.0011]` → 99.88% chance it's legitimate, 0.11% chance it's fraud.\n",
    "  - `[0.9974, 0.0025]` → 99.74% chance it's legitimate, 0.25% chance it's fraud.\n",
    "- Most predictions are for Class 0 (legitimate transactions)."
   ]
  },
  {
   "cell_type": "markdown",
   "metadata": {
    "application/vnd.databricks.v1+cell": {
     "cellMetadata": {
      "byteLimit": 2048000,
      "rowLimit": 10000
     },
     "inputWidgets": {},
     "nuid": "3dff04b7-ecf2-4fb2-add5-fc312ffd4858",
     "showTitle": false,
     "tableResultSettingsMap": {},
     "title": ""
    }
   },
   "source": [
    "### 6. Evaluating Model Performance (AUC-ROC Score)"
   ]
  },
  {
   "cell_type": "code",
   "execution_count": 0,
   "metadata": {
    "application/vnd.databricks.v1+cell": {
     "cellMetadata": {
      "byteLimit": 2048000,
      "rowLimit": 10000
     },
     "inputWidgets": {},
     "nuid": "d0212c40-5028-4588-8ca4-05e6c59bf789",
     "showTitle": false,
     "tableResultSettingsMap": {},
     "title": ""
    }
   },
   "outputs": [
    {
     "output_type": "stream",
     "name": "stdout",
     "output_type": "stream",
     "text": [
      "Logistic Regression Model AUC-ROC: 0.9941\n"
     ]
    }
   ],
   "source": [
    "# Initialize evaluator\n",
    "evaluator = BinaryClassificationEvaluator(labelCol=\"Class\", metricName=\"areaUnderROC\")\n",
    "\n",
    "# Compute AUC-ROC\n",
    "auc = evaluator.evaluate(predictions)\n",
    "print(f\"Logistic Regression Model AUC-ROC: {auc:.4f}\")"
   ]
  },
  {
   "cell_type": "markdown",
   "metadata": {
    "application/vnd.databricks.v1+cell": {
     "cellMetadata": {
      "byteLimit": 2048000,
      "rowLimit": 10000
     },
     "inputWidgets": {},
     "nuid": "bf8c074d-2874-44ad-84b0-f7d3abdb5122",
     "showTitle": false,
     "tableResultSettingsMap": {},
     "title": ""
    }
   },
   "source": [
    "To assess how well the Logistic Regression model detects fraudulent transactions, we computed the AUC-ROC (Area Under the Curve - Receiver Operating Characteristic) score.\n",
    "\n",
    "#### AUC-ROC Score:\n",
    "| Metric | Value |\n",
    "|------------|----------|\n",
    "| AUC-ROC | 0.9941 |\n",
    "\n",
    "#### What This Means:\n",
    "- AUC-ROC = 0.9941 indicates that the model performs exceptionally well in distinguishing between fraud and legitimate transactions.\n",
    "- A score close to 1 means the model is highly capable of detecting fraud while minimizing false positives.\n",
    "- However, we still need to verify Precision, Recall, and F1 Score to check how well fraud cases are detected."
   ]
  },
  {
   "cell_type": "markdown",
   "metadata": {
    "application/vnd.databricks.v1+cell": {
     "cellMetadata": {
      "byteLimit": 2048000,
      "rowLimit": 10000
     },
     "inputWidgets": {},
     "nuid": "df9a9bd4-fd1a-4c13-b58a-5f95c6fcfb4b",
     "showTitle": false,
     "tableResultSettingsMap": {},
     "title": ""
    }
   },
   "source": [
    "### 7. Evaluating Model Performance (Precision, Recall, and F1 Score)"
   ]
  },
  {
   "cell_type": "code",
   "execution_count": 0,
   "metadata": {
    "application/vnd.databricks.v1+cell": {
     "cellMetadata": {
      "byteLimit": 2048000,
      "rowLimit": 10000
     },
     "inputWidgets": {},
     "nuid": "0c476cf2-00e8-4bac-a830-f933396bb7d3",
     "showTitle": false,
     "tableResultSettingsMap": {},
     "title": ""
    }
   },
   "outputs": [
    {
     "output_type": "stream",
     "name": "stdout",
     "output_type": "stream",
     "text": [
      "Precision: 0.9993\nRecall: 0.9993\nF1 Score: 0.9992\n"
     ]
    }
   ],
   "source": [
    "from pyspark.ml.evaluation import MulticlassClassificationEvaluator\n",
    "\n",
    "# Precision\n",
    "precision_evaluator = MulticlassClassificationEvaluator(labelCol=\"Class\", metricName=\"weightedPrecision\")\n",
    "precision = precision_evaluator.evaluate(predictions)\n",
    "\n",
    "# Recall\n",
    "recall_evaluator = MulticlassClassificationEvaluator(labelCol=\"Class\", metricName=\"weightedRecall\")\n",
    "recall = recall_evaluator.evaluate(predictions)\n",
    "\n",
    "# F1 Score\n",
    "f1_evaluator = MulticlassClassificationEvaluator(labelCol=\"Class\", metricName=\"f1\")\n",
    "f1_score = f1_evaluator.evaluate(predictions)\n",
    "\n",
    "# Print evaluation metrics\n",
    "print(f\"Precision: {precision:.4f}\")\n",
    "print(f\"Recall: {recall:.4f}\")\n",
    "print(f\"F1 Score: {f1_score:.4f}\")"
   ]
  },
  {
   "cell_type": "markdown",
   "metadata": {
    "application/vnd.databricks.v1+cell": {
     "cellMetadata": {
      "byteLimit": 2048000,
      "rowLimit": 10000
     },
     "inputWidgets": {},
     "nuid": "e329d3e2-d5aa-4aad-8a89-064cfebb9c4e",
     "showTitle": false,
     "tableResultSettingsMap": {},
     "title": ""
    }
   },
   "source": [
    "After assessing AUC-ROC, we further evaluated the Precision, Recall, and F1 Score to understand how well the model detects fraud.\n",
    "\n",
    "#### Evaluation Metrics:\n",
    "| Metric | Value |\n",
    "|------------|----------|\n",
    "| Precision | 0.9993 |\n",
    "| Recall | 0.9993 |\n",
    "| F1 Score | 0.9992 |\n",
    "\n",
    "#### What These Mean:\n",
    "- Precision (0.9993) → 99.93% of predicted fraud cases were actually fraud.\n",
    "- Recall (0.9993) → 99.93% of actual fraud cases were correctly detected.\n",
    "- F1 Score (0.9992) → The harmonic mean of Precision and Recall, confirming an excellent fraud detection balance."
   ]
  },
  {
   "cell_type": "code",
   "execution_count": 0,
   "metadata": {
    "application/vnd.databricks.v1+cell": {
     "cellMetadata": {
      "byteLimit": 2048000,
      "rowLimit": 10000
     },
     "inputWidgets": {},
     "nuid": "a20c8d8f-2f2c-4c7b-a61a-511bb82d6f24",
     "showTitle": false,
     "tableResultSettingsMap": {},
     "title": ""
    }
   },
   "outputs": [
    {
     "output_type": "stream",
     "name": "stdout",
     "output_type": "stream",
     "text": [
      "Created directory for model storage.\nLogistic Regression model saved.\n"
     ]
    }
   ],
   "source": [
    "# Create a directory for storing models in DBFS (if not exists)\n",
    "dbutils.fs.mkdirs(\"dbfs:/FileStore/user/models/\")\n",
    "print(\"Created directory for model storage.\")\n",
    "\n",
    "from pyspark.ml.classification import LogisticRegressionModel\n",
    "\n",
    "# Save the trained Logistic Regression model\n",
    "lr_model.write().overwrite().save(\"dbfs:/FileStore/user/models/logistic_regression\")\n",
    "print(\"Logistic Regression model saved.\")"
   ]
  },
  {
   "cell_type": "markdown",
   "metadata": {
    "application/vnd.databricks.v1+cell": {
     "cellMetadata": {
      "byteLimit": 2048000,
      "rowLimit": 10000
     },
     "inputWidgets": {},
     "nuid": "995d5284-2a28-4720-9ccf-f0e7da6dfc07",
     "showTitle": false,
     "tableResultSettingsMap": {},
     "title": ""
    }
   },
   "source": [
    "### 8. Decision Tree Classifier - Model Selection"
   ]
  },
  {
   "cell_type": "code",
   "execution_count": 0,
   "metadata": {
    "application/vnd.databricks.v1+cell": {
     "cellMetadata": {
      "byteLimit": 2048000,
      "rowLimit": 10000
     },
     "inputWidgets": {},
     "nuid": "46d94702-628d-4827-bbc4-ea8ff18db2ed",
     "showTitle": false,
     "tableResultSettingsMap": {},
     "title": ""
    }
   },
   "outputs": [],
   "source": [
    "from pyspark.ml.classification import DecisionTreeClassifier"
   ]
  },
  {
   "cell_type": "markdown",
   "metadata": {
    "application/vnd.databricks.v1+cell": {
     "cellMetadata": {
      "byteLimit": 2048000,
      "rowLimit": 10000
     },
     "inputWidgets": {},
     "nuid": "b481fdf0-e978-412c-bf62-5c1957e61ce8",
     "showTitle": false,
     "tableResultSettingsMap": {},
     "title": ""
    }
   },
   "source": [
    "After training Logistic Regression, we now implement a Decision Tree Classifier for fraud detection.\n",
    "\n",
    "#### Why Use a Decision Tree?\n",
    "- Decision Trees are interpretable and can capture non-linear relationships in the data.\n",
    "- Unlike Logistic Regression, Decision Trees can split data into hierarchical decisions, potentially improving fraud detection."
   ]
  },
  {
   "cell_type": "markdown",
   "metadata": {
    "application/vnd.databricks.v1+cell": {
     "cellMetadata": {
      "byteLimit": 2048000,
      "rowLimit": 10000
     },
     "inputWidgets": {},
     "nuid": "90c7b290-f29e-43f7-bef2-92aa7a78fc48",
     "showTitle": false,
     "tableResultSettingsMap": {},
     "title": ""
    }
   },
   "source": [
    "### 9. Training the Decision Tree Model"
   ]
  },
  {
   "cell_type": "code",
   "execution_count": 0,
   "metadata": {
    "application/vnd.databricks.v1+cell": {
     "cellMetadata": {
      "byteLimit": 2048000,
      "rowLimit": 10000
     },
     "inputWidgets": {},
     "nuid": "457228bb-494f-47c8-a8c5-56be556c7952",
     "showTitle": false,
     "tableResultSettingsMap": {},
     "title": ""
    }
   },
   "outputs": [
    {
     "output_type": "stream",
     "name": "stdout",
     "output_type": "stream",
     "text": [
      "Tree Depth: 5\nNumber of Nodes: 35\n"
     ]
    }
   ],
   "source": [
    "# Initialize Decision Tree Model\n",
    "dt = DecisionTreeClassifier(featuresCol=\"scaled_features\", labelCol=\"Class\")\n",
    "\n",
    "# Train the model\n",
    "dt_model = dt.fit(train_df)\n",
    "\n",
    "# Display Decision Tree depth and number of nodes\n",
    "print(f\"Tree Depth: {dt_model.depth}\")\n",
    "print(f\"Number of Nodes: {dt_model.numNodes}\")"
   ]
  },
  {
   "cell_type": "markdown",
   "metadata": {
    "application/vnd.databricks.v1+cell": {
     "cellMetadata": {
      "byteLimit": 2048000,
      "rowLimit": 10000
     },
     "inputWidgets": {},
     "nuid": "2e6b0472-56db-4d76-8499-cce564fb6405",
     "showTitle": false,
     "tableResultSettingsMap": {},
     "title": ""
    }
   },
   "source": [
    "After selecting the Decision Tree Classifier, we trained it on the fraud detection dataset.\n",
    "\n",
    "#### Model Parameters:\n",
    "| Parameter | Value |\n",
    "|--------------|----------|\n",
    "| Tree Depth | 5 |\n",
    "| Number of Nodes | 35 |\n",
    "\n",
    "#### What These Mean:\n",
    "- **Tree Depth (5):** The Decision Tree makes at most 5 splits before classifying a transaction.\n",
    "- **Number of Nodes (35):** The tree has 35 decision nodes, meaning it has learned 35 decision rules from the dataset."
   ]
  },
  {
   "cell_type": "markdown",
   "metadata": {
    "application/vnd.databricks.v1+cell": {
     "cellMetadata": {
      "byteLimit": 2048000,
      "rowLimit": 10000
     },
     "inputWidgets": {},
     "nuid": "7b049157-99b4-41bd-b413-36771f82283d",
     "showTitle": false,
     "tableResultSettingsMap": {},
     "title": ""
    }
   },
   "source": [
    "### 10. Making Predictions with the Decision Tree Model"
   ]
  },
  {
   "cell_type": "code",
   "execution_count": 0,
   "metadata": {
    "application/vnd.databricks.v1+cell": {
     "cellMetadata": {
      "byteLimit": 2048000,
      "rowLimit": 10000
     },
     "inputWidgets": {},
     "nuid": "5762a7b2-4be3-46d6-bcef-fbbeda6da1aa",
     "showTitle": false,
     "tableResultSettingsMap": {},
     "title": ""
    }
   },
   "outputs": [
    {
     "output_type": "stream",
     "name": "stdout",
     "output_type": "stream",
     "text": [
      "+--------------------+-----+----------+--------------------+\n|     scaled_features|Class|prediction|         probability|\n+--------------------+-----+----------+--------------------+\n|[-1.9965245463389...|    0|       0.0|[0.99985390867344...|\n|[-1.9958927152961...|    0|       0.0|[0.99906963429471...|\n|[-1.9954714946009...|    0|       0.0|[0.99985390867344...|\n|[-1.9948817856277...|    0|       0.0|[0.99985390867344...|\n|[-1.9941867714807...|    0|       0.0|[0.98275862068965...|\n+--------------------+-----+----------+--------------------+\nonly showing top 5 rows\n\n"
     ]
    }
   ],
   "source": [
    "# Make predictions\n",
    "dt_predictions = dt_model.transform(test_df)\n",
    "\n",
    "# Display some sample predictions\n",
    "dt_predictions.select(\"scaled_features\", \"Class\", \"prediction\", \"probability\").show(5)\n"
   ]
  },
  {
   "cell_type": "markdown",
   "metadata": {
    "application/vnd.databricks.v1+cell": {
     "cellMetadata": {
      "byteLimit": 2048000,
      "rowLimit": 10000
     },
     "inputWidgets": {},
     "nuid": "52e91918-df67-450a-b7e0-05ce93f8cd19",
     "showTitle": false,
     "tableResultSettingsMap": {},
     "title": ""
    }
   },
   "source": [
    "After training the Decision Tree Classifier, we tested it on unseen test data.\n",
    "\n",
    "#### Prediction Output:\n",
    "| Scaled Features | Actual Class (Label) | Predicted Class | Probability (Fraud vs. Legitimate) |\n",
    "|--------------------|----------------------|----------------|----------------------------------|\n",
    "| [-1.99, 0.45, …] | 0 | 0 | [0.9998, 0.0002] |\n",
    "| [-1.99, -0.30, …] | 0 | 0 | [0.9990, 0.0010] |\n",
    "| [-1.99, 1.27, …] | 0 | 0 | [0.9998, 0.0002] |\n",
    "| [-1.99, -0.89, …] | 0 | 0 | [0.9998, 0.0002] |\n",
    "| [-1.99, -0.60, …] | 0 | 0 | [0.9827, 0.0173] |\n",
    "\n",
    "#### Key Observations:\n",
    "- The predicted class (0 or 1) matches the actual class (Class column).\n",
    "- The probability column shows the model’s confidence in each prediction:\n",
    "  - `[0.9998, 0.0002]` → 99.98% chance it's legitimate, 0.02% chance it's fraud.\n",
    "  - `[0.9827, 0.0173]` → 98.27% chance it's legitimate, 1.73% chance it's fraud.\n",
    "- Most predictions are for Class 0 (legitimate transactions)."
   ]
  },
  {
   "cell_type": "markdown",
   "metadata": {
    "application/vnd.databricks.v1+cell": {
     "cellMetadata": {
      "byteLimit": 2048000,
      "rowLimit": 10000
     },
     "inputWidgets": {},
     "nuid": "5139de1f-f15e-48e1-87ea-991cc6096566",
     "showTitle": false,
     "tableResultSettingsMap": {},
     "title": ""
    }
   },
   "source": [
    "### 11. Evaluating Decision Tree Model Performance (AUC-ROC Score)"
   ]
  },
  {
   "cell_type": "code",
   "execution_count": 0,
   "metadata": {
    "application/vnd.databricks.v1+cell": {
     "cellMetadata": {
      "byteLimit": 2048000,
      "rowLimit": 10000
     },
     "inputWidgets": {},
     "nuid": "55c66d2d-3102-4f5a-b167-78f2a8e43714",
     "showTitle": false,
     "tableResultSettingsMap": {},
     "title": ""
    }
   },
   "outputs": [
    {
     "output_type": "stream",
     "name": "stdout",
     "output_type": "stream",
     "text": [
      "Decision Tree Model AUC-ROC: 0.6568\n"
     ]
    }
   ],
   "source": [
    "# Initialize evaluator\n",
    "dt_evaluator = BinaryClassificationEvaluator(labelCol=\"Class\", metricName=\"areaUnderROC\")\n",
    "\n",
    "# Compute AUC-ROC\n",
    "dt_auc = dt_evaluator.evaluate(dt_predictions)\n",
    "print(f\"Decision Tree Model AUC-ROC: {dt_auc:.4f}\")\n"
   ]
  },
  {
   "cell_type": "markdown",
   "metadata": {
    "application/vnd.databricks.v1+cell": {
     "cellMetadata": {
      "byteLimit": 2048000,
      "rowLimit": 10000
     },
     "inputWidgets": {},
     "nuid": "78a395cb-16c3-41af-afcf-6d24df150f61",
     "showTitle": false,
     "tableResultSettingsMap": {},
     "title": ""
    }
   },
   "source": [
    "To assess how well the Decision Tree model detects fraudulent transactions, we computed the AUC-ROC (Area Under the Curve - Receiver Operating Characteristic) score.\n",
    "\n",
    "#### AUC-ROC Score:\n",
    "| Metric | Value |\n",
    "|------------|----------|\n",
    "| AUC-ROC | 0.6568 |\n",
    "\n",
    "#### What This Means:\n",
    "- AUC-ROC = 0.6568 indicates that the Decision Tree model is not performing well in distinguishing between fraud and legitimate transactions.\n",
    "- Lower than Logistic Regression (AUC-ROC = 0.9941), suggesting that Decision Trees might not be the best choice for this dataset.\n",
    "- The model may need hyperparameter tuning or a more complex tree structure for better fraud detection."
   ]
  },
  {
   "cell_type": "markdown",
   "metadata": {
    "application/vnd.databricks.v1+cell": {
     "cellMetadata": {
      "byteLimit": 2048000,
      "rowLimit": 10000
     },
     "inputWidgets": {},
     "nuid": "99c17349-d0bf-4f5b-82fb-95e2dabcdb79",
     "showTitle": false,
     "tableResultSettingsMap": {},
     "title": ""
    }
   },
   "source": [
    "### 12. Evaluating Decision Tree Model Performance (Precision, Recall, and F1 Score)"
   ]
  },
  {
   "cell_type": "code",
   "execution_count": 0,
   "metadata": {
    "application/vnd.databricks.v1+cell": {
     "cellMetadata": {
      "byteLimit": 2048000,
      "rowLimit": 10000
     },
     "inputWidgets": {},
     "nuid": "d1658f20-7fc0-475d-b09a-b3330d8ea26a",
     "showTitle": false,
     "tableResultSettingsMap": {},
     "title": ""
    }
   },
   "outputs": [
    {
     "output_type": "stream",
     "name": "stdout",
     "output_type": "stream",
     "text": [
      "Precision: 0.9993\nRecall: 0.9993\nF1 Score: 0.9993\n"
     ]
    }
   ],
   "source": [
    "# Precision\n",
    "dt_precision = precision_evaluator.evaluate(dt_predictions)\n",
    "\n",
    "# Recall\n",
    "dt_recall = recall_evaluator.evaluate(dt_predictions)\n",
    "\n",
    "# F1 Score\n",
    "dt_f1_score = f1_evaluator.evaluate(dt_predictions)\n",
    "\n",
    "# Print evaluation metrics\n",
    "print(f\"Precision: {dt_precision:.4f}\")\n",
    "print(f\"Recall: {dt_recall:.4f}\")\n",
    "print(f\"F1 Score: {dt_f1_score:.4f}\")"
   ]
  },
  {
   "cell_type": "markdown",
   "metadata": {
    "application/vnd.databricks.v1+cell": {
     "cellMetadata": {
      "byteLimit": 2048000,
      "rowLimit": 10000
     },
     "inputWidgets": {},
     "nuid": "9d734084-0a71-4939-afc8-763f35149856",
     "showTitle": false,
     "tableResultSettingsMap": {},
     "title": ""
    }
   },
   "source": [
    "After assessing AUC-ROC, we further evaluated the Precision, Recall, and F1 Score to understand how well the Decision Tree model detects fraud.\n",
    "\n",
    "#### Evaluation Metrics:\n",
    "| Metric | Value |\n",
    "|------------|----------|\n",
    "| Precision | 0.9993 |\n",
    "| Recall | 0.9993 |\n",
    "| F1 Score | 0.9993 |\n",
    "\n",
    "#### What These Mean:\n",
    "- Precision (0.9993) → 99.93% of predicted fraud cases were actually fraud.  \n",
    "- Recall (0.9993) → 99.93% of actual fraud cases were correctly detected.  \n",
    "- F1 Score (0.9993) → The harmonic mean of Precision and Recall, confirming an excellent fraud detection balance.  \n",
    "\n",
    "#### Key Insights:\n",
    "- Despite high Precision & Recall, the AUC-ROC score (0.6568) suggests that the model is not very effective at differentiating fraud from legitimate transactions.\n",
    "- Decision Tree likely overfits to the training data, meaning it classifies well on seen data but struggles with generalization.\n",
    "- Logistic Regression (AUC-ROC = 0.9941) significantly outperformed the Decision Tree (AUC-ROC = 0.6568)."
   ]
  },
  {
   "cell_type": "code",
   "execution_count": 0,
   "metadata": {
    "application/vnd.databricks.v1+cell": {
     "cellMetadata": {
      "byteLimit": 2048000,
      "rowLimit": 10000
     },
     "inputWidgets": {},
     "nuid": "5076db75-42d2-4151-b8a1-c514e515441d",
     "showTitle": false,
     "tableResultSettingsMap": {},
     "title": ""
    }
   },
   "outputs": [
    {
     "output_type": "stream",
     "name": "stdout",
     "output_type": "stream",
     "text": [
      "Decision Tree model saved.\n"
     ]
    }
   ],
   "source": [
    "from pyspark.ml.classification import DecisionTreeClassificationModel\n",
    "\n",
    "# Save the trained Decision Tree model\n",
    "dt_model.write().overwrite().save(\"dbfs:/FileStore/user/models/decision_tree\")\n",
    "print(\"Decision Tree model saved.\")"
   ]
  },
  {
   "cell_type": "markdown",
   "metadata": {
    "application/vnd.databricks.v1+cell": {
     "cellMetadata": {
      "byteLimit": 2048000,
      "rowLimit": 10000
     },
     "inputWidgets": {},
     "nuid": "76030362-ec03-4bab-96e2-5c02a16a6915",
     "showTitle": false,
     "tableResultSettingsMap": {},
     "title": ""
    }
   },
   "source": [
    "### 13. Random Forest Classifier - Model Selection"
   ]
  },
  {
   "cell_type": "markdown",
   "metadata": {
    "application/vnd.databricks.v1+cell": {
     "cellMetadata": {
      "byteLimit": 2048000,
      "rowLimit": 10000
     },
     "inputWidgets": {},
     "nuid": "dcce7e77-edca-4cae-90fb-eda46308f621",
     "showTitle": false,
     "tableResultSettingsMap": {},
     "title": ""
    }
   },
   "source": [
    "After training Logistic Regression and Decision Tree, we now implement a Random Forest Classifier for fraud detection.\n",
    "\n",
    "#### Why Use Random Forest?\n",
    "- Ensemble method → Combines multiple decision trees to improve performance.\n",
    "- More robust and less prone to overfitting compared to a single decision tree.\n",
    "- Can handle complex fraud patterns better than individual models."
   ]
  },
  {
   "cell_type": "code",
   "execution_count": 0,
   "metadata": {
    "application/vnd.databricks.v1+cell": {
     "cellMetadata": {
      "byteLimit": 2048000,
      "rowLimit": 10000
     },
     "inputWidgets": {},
     "nuid": "07b9c377-d78b-452d-95a7-17d0a57248e1",
     "showTitle": false,
     "tableResultSettingsMap": {},
     "title": ""
    }
   },
   "outputs": [],
   "source": [
    "from pyspark.ml.classification import RandomForestClassifier"
   ]
  },
  {
   "cell_type": "markdown",
   "metadata": {
    "application/vnd.databricks.v1+cell": {
     "cellMetadata": {
      "byteLimit": 2048000,
      "rowLimit": 10000
     },
     "inputWidgets": {},
     "nuid": "c0762bb8-1b3d-4e66-9b47-bf6c81986320",
     "showTitle": false,
     "tableResultSettingsMap": {},
     "title": ""
    }
   },
   "source": [
    "### 14. Training the Random Forest Model"
   ]
  },
  {
   "cell_type": "code",
   "execution_count": 0,
   "metadata": {
    "application/vnd.databricks.v1+cell": {
     "cellMetadata": {
      "byteLimit": 2048000,
      "rowLimit": 10000
     },
     "inputWidgets": {},
     "nuid": "c206e392-341f-4f21-933f-1962530f4793",
     "showTitle": false,
     "tableResultSettingsMap": {},
     "title": ""
    }
   },
   "outputs": [
    {
     "output_type": "stream",
     "name": "stdout",
     "output_type": "stream",
     "text": [
      "Feature Importances: (30,[0,1,2,3,4,5,6,7,8,9,10,11,12,13,14,15,16,17,18,19,20,21,22,23,24,25,26,27,28,29],[0.019208786503728193,0.013444368483863293,0.02804720665517468,0.02329984308732326,0.05086809633511993,0.007997557146327518,0.009780730797977455,0.05557551725826357,0.009278282028442695,0.031195244358192823,0.0657521127835967,0.058002611828276714,0.12531872582780448,0.014157753465573275,0.09492011318496012,0.01178749119876412,0.09648760085713587,0.09171335500943162,0.033239109027379546,0.010159139468907879,0.014966851446077905,0.027261117552089164,0.016846800145990163,0.007006401976094919,0.015316035903510774,0.010091114583812764,0.025410768760697557,0.009530639912599264,0.007344431922859226,0.015992192490024534])\n"
     ]
    }
   ],
   "source": [
    "# Initialize Random Forest Model\n",
    "rf = RandomForestClassifier(featuresCol=\"scaled_features\", labelCol=\"Class\", numTrees=50, maxDepth=10, seed=42)\n",
    "\n",
    "# Train the model\n",
    "rf_model = rf.fit(train_df)\n",
    "\n",
    "# Display feature importances\n",
    "print(f\"Feature Importances: {rf_model.featureImportances}\")"
   ]
  },
  {
   "cell_type": "markdown",
   "metadata": {
    "application/vnd.databricks.v1+cell": {
     "cellMetadata": {
      "byteLimit": 2048000,
      "rowLimit": 10000
     },
     "inputWidgets": {},
     "nuid": "8e42c925-b72a-4363-a377-d5e9c9191d1b",
     "showTitle": false,
     "tableResultSettingsMap": {},
     "title": ""
    }
   },
   "source": [
    "After selecting the Random Forest Classifier, we trained it on the fraud detection dataset.\n",
    "\n",
    "#### Model Parameters:\n",
    "| Parameter | Value |\n",
    "|--------------|----------|\n",
    "| Number of Trees | 50 |\n",
    "| Max Depth | 10 |\n",
    "\n",
    "#### Feature Importances:\n",
    "| Feature | Importance Score |\n",
    "|------------|---------------------|\n",
    "| V12 | 0.1253 |\n",
    "| V16 | 0.0965 |\n",
    "| V14 | 0.0949 |\n",
    "| V17 | 0.0917 |\n",
    "| V10 | 0.0657 |\n",
    "| V11 | 0.0580 |\n",
    "| V8  | 0.0556 |\n",
    "| V4  | 0.0509 |\n",
    "\n",
    "#### What These Mean:\n",
    "- The most important features influencing fraud prediction are V12, V16, V14, and V17.\n",
    "- Features with higher importance scores contribute more to the model’s decisions."
   ]
  },
  {
   "cell_type": "markdown",
   "metadata": {
    "application/vnd.databricks.v1+cell": {
     "cellMetadata": {
      "byteLimit": 2048000,
      "rowLimit": 10000
     },
     "inputWidgets": {},
     "nuid": "2b24d6ac-5388-4d0c-a3c3-316f19142b55",
     "showTitle": false,
     "tableResultSettingsMap": {},
     "title": ""
    }
   },
   "source": [
    "### 15. Making Predictions with the Random Forest Model"
   ]
  },
  {
   "cell_type": "code",
   "execution_count": 0,
   "metadata": {
    "application/vnd.databricks.v1+cell": {
     "cellMetadata": {
      "byteLimit": 2048000,
      "rowLimit": 10000
     },
     "inputWidgets": {},
     "nuid": "c6440e50-8f35-4121-a66a-351f1a043e91",
     "showTitle": false,
     "tableResultSettingsMap": {},
     "title": ""
    }
   },
   "outputs": [
    {
     "output_type": "stream",
     "name": "stdout",
     "output_type": "stream",
     "text": [
      "+--------------------+-----+----------+--------------------+\n|     scaled_features|Class|prediction|         probability|\n+--------------------+-----+----------+--------------------+\n|[-1.9965245463389...|    0|       0.0|[0.99982768130917...|\n|[-1.9958927152961...|    0|       0.0|[0.99978503446147...|\n|[-1.9954714946009...|    0|       0.0|[0.99994062505612...|\n|[-1.9948817856277...|    0|       0.0|[0.99991324516855...|\n|[-1.9941867714807...|    0|       0.0|[0.95970103393466...|\n+--------------------+-----+----------+--------------------+\nonly showing top 5 rows\n\n"
     ]
    }
   ],
   "source": [
    "# Make predictions\n",
    "rf_predictions = rf_model.transform(test_df)\n",
    "\n",
    "# Display some sample predictions\n",
    "rf_predictions.select(\"scaled_features\", \"Class\", \"prediction\", \"probability\").show(5)"
   ]
  },
  {
   "cell_type": "markdown",
   "metadata": {
    "application/vnd.databricks.v1+cell": {
     "cellMetadata": {
      "byteLimit": 2048000,
      "rowLimit": 10000
     },
     "inputWidgets": {},
     "nuid": "77c524f0-c447-4a3a-a45d-0a982a517aba",
     "showTitle": false,
     "tableResultSettingsMap": {},
     "title": ""
    }
   },
   "source": [
    "After training the Random Forest Classifier, we tested it on unseen test data.\n",
    "\n",
    "#### Prediction Output:\n",
    "| Scaled Features | Actual Class (Label) | Predicted Class | Probability (Fraud vs. Legitimate) |\n",
    "|--------------------|----------------------|----------------|----------------------------------|\n",
    "| [-1.99, 0.45, …] | 0 | 0 | [0.9998, 0.0002] |\n",
    "| [-1.99, -0.30, …] | 0 | 0 | [0.9997, 0.0003] |\n",
    "| [-1.99, 1.27, …] | 0 | 0 | [0.9999, 0.0001] |\n",
    "| [-1.99, -0.89, …] | 0 | 0 | [0.9999, 0.0001] |\n",
    "| [-1.99, -0.60, …] | 0 | 0 | [0.9597, 0.0403] |\n",
    "\n",
    "#### Key Observations:\n",
    "- The predicted class (0 or 1) matches the actual class (Class column).\n",
    "- The probability column shows the model’s confidence in each prediction:\n",
    "  - `[0.9998, 0.0002]` → 99.98% chance it's legitimate, 0.02% chance it's fraud.\n",
    "  - `[0.9597, 0.0403]` → 95.97% chance it's legitimate, 4.03% chance it's fraud.\n",
    "- Most predictions are for Class 0 (legitimate transactions)."
   ]
  },
  {
   "cell_type": "markdown",
   "metadata": {
    "application/vnd.databricks.v1+cell": {
     "cellMetadata": {
      "byteLimit": 2048000,
      "rowLimit": 10000
     },
     "inputWidgets": {},
     "nuid": "ee761f47-d756-415f-8ae2-d0fca9fc21e9",
     "showTitle": false,
     "tableResultSettingsMap": {},
     "title": ""
    }
   },
   "source": [
    "### 16. Evaluating Random Forest Model Performance (AUC-ROC Score)"
   ]
  },
  {
   "cell_type": "code",
   "execution_count": 0,
   "metadata": {
    "application/vnd.databricks.v1+cell": {
     "cellMetadata": {
      "byteLimit": 2048000,
      "rowLimit": 10000
     },
     "inputWidgets": {},
     "nuid": "42f78006-3aec-4052-8b89-340cdf7dc2ac",
     "showTitle": false,
     "tableResultSettingsMap": {},
     "title": ""
    }
   },
   "outputs": [
    {
     "output_type": "stream",
     "name": "stdout",
     "output_type": "stream",
     "text": [
      "Random Forest Model AUC-ROC: 0.9881\n"
     ]
    }
   ],
   "source": [
    "# Initialize evaluator\n",
    "rf_evaluator = BinaryClassificationEvaluator(labelCol=\"Class\", metricName=\"areaUnderROC\")\n",
    "\n",
    "# Compute AUC-ROC\n",
    "rf_auc = rf_evaluator.evaluate(rf_predictions)\n",
    "print(f\"Random Forest Model AUC-ROC: {rf_auc:.4f}\")"
   ]
  },
  {
   "cell_type": "markdown",
   "metadata": {
    "application/vnd.databricks.v1+cell": {
     "cellMetadata": {
      "byteLimit": 2048000,
      "rowLimit": 10000
     },
     "inputWidgets": {},
     "nuid": "ad0a223b-b706-45a8-8a13-d064bfa20744",
     "showTitle": false,
     "tableResultSettingsMap": {},
     "title": ""
    }
   },
   "source": [
    "To assess how well the Random Forest model detects fraudulent transactions, we computed the AUC-ROC (Area Under the Curve - Receiver Operating Characteristic) score.\n",
    "\n",
    "#### AUC-ROC Score:\n",
    "| Metric | Value |\n",
    "|------------|----------|\n",
    "| AUC-ROC | 0.9881 |\n",
    "\n",
    "#### What This Means:\n",
    "- AUC-ROC = 0.9881 indicates that the Random Forest model performs well in distinguishing between fraud and legitimate transactions.\n",
    "- This score is slightly lower than Logistic Regression (0.9941) but significantly higher than Decision Tree (0.6568).\n",
    "- The model has a strong ability to differentiate fraudulent transactions from legitimate ones."
   ]
  },
  {
   "cell_type": "markdown",
   "metadata": {
    "application/vnd.databricks.v1+cell": {
     "cellMetadata": {
      "byteLimit": 2048000,
      "rowLimit": 10000
     },
     "inputWidgets": {},
     "nuid": "de0c9eaa-0136-4ab7-9989-cda5011fc3bf",
     "showTitle": false,
     "tableResultSettingsMap": {},
     "title": ""
    }
   },
   "source": [
    "### 17. Evaluating Random Forest Model Performance (Precision, Recall, and F1 Score)"
   ]
  },
  {
   "cell_type": "code",
   "execution_count": 0,
   "metadata": {
    "application/vnd.databricks.v1+cell": {
     "cellMetadata": {
      "byteLimit": 2048000,
      "rowLimit": 10000
     },
     "inputWidgets": {},
     "nuid": "64b498a3-c52c-4d4c-87d5-98a9b0a07dc7",
     "showTitle": false,
     "tableResultSettingsMap": {},
     "title": ""
    }
   },
   "outputs": [
    {
     "output_type": "stream",
     "name": "stdout",
     "output_type": "stream",
     "text": [
      "Precision: 0.9995\nRecall: 0.9995\nF1 Score: 0.9995\n"
     ]
    }
   ],
   "source": [
    "# Precision\n",
    "rf_precision = precision_evaluator.evaluate(rf_predictions)\n",
    "\n",
    "# Recall\n",
    "rf_recall = recall_evaluator.evaluate(rf_predictions)\n",
    "\n",
    "# F1 Score\n",
    "rf_f1_score = f1_evaluator.evaluate(rf_predictions)\n",
    "\n",
    "# Print evaluation metrics\n",
    "print(f\"Precision: {rf_precision:.4f}\")\n",
    "print(f\"Recall: {rf_recall:.4f}\")\n",
    "print(f\"F1 Score: {rf_f1_score:.4f}\")\n"
   ]
  },
  {
   "cell_type": "markdown",
   "metadata": {
    "application/vnd.databricks.v1+cell": {
     "cellMetadata": {
      "byteLimit": 2048000,
      "rowLimit": 10000
     },
     "inputWidgets": {},
     "nuid": "c6191f24-06f8-4bd1-b1b4-3766aa8a45fc",
     "showTitle": false,
     "tableResultSettingsMap": {},
     "title": ""
    }
   },
   "source": [
    "After assessing AUC-ROC, we further evaluated the Precision, Recall, and F1 Score to understand how well the Random Forest model detects fraud.\n",
    "\n",
    "#### Evaluation Metrics:\n",
    "| Metric | Value |\n",
    "|------------|----------|\n",
    "| Precision | 0.9995 |\n",
    "| Recall | 0.9995 |\n",
    "| F1 Score | 0.9995 |\n",
    "\n",
    "#### What These Mean:\n",
    "- Precision (0.9995) → 99.95% of predicted fraud cases were actually fraud.  \n",
    "- Recall (0.9995) → 99.95% of actual fraud cases were correctly detected.  \n",
    "- F1 Score (0.9995) → The harmonic mean of Precision and Recall, confirming an excellent fraud detection balance.  \n",
    "\n",
    "#### Key Insights:\n",
    "- AUC-ROC (0.9881) confirms that the Random Forest model performs well in distinguishing fraud from legitimate transactions.\n",
    "- Precision & Recall are slightly higher than Logistic Regression (0.9993), showing slightly better fraud detection capabilities.\n",
    "- The model is significantly better than the Decision Tree approach, which had a much lower AUC-ROC (0.6568)."
   ]
  },
  {
   "cell_type": "code",
   "execution_count": 0,
   "metadata": {
    "application/vnd.databricks.v1+cell": {
     "cellMetadata": {
      "byteLimit": 2048000,
      "rowLimit": 10000
     },
     "inputWidgets": {},
     "nuid": "491d7c19-749f-4c1e-8c27-4ed68a217e63",
     "showTitle": false,
     "tableResultSettingsMap": {},
     "title": ""
    }
   },
   "outputs": [
    {
     "output_type": "stream",
     "name": "stdout",
     "output_type": "stream",
     "text": [
      "Random Forest model saved.\n"
     ]
    }
   ],
   "source": [
    "from pyspark.ml.classification import RandomForestClassificationModel\n",
    "\n",
    "# Save the trained Random Forest model\n",
    "rf_model.write().overwrite().save(\"dbfs:/FileStore/user/models/random_forest\")\n",
    "print(\"Random Forest model saved.\")"
   ]
  },
  {
   "cell_type": "markdown",
   "metadata": {
    "application/vnd.databricks.v1+cell": {
     "cellMetadata": {
      "byteLimit": 2048000,
      "rowLimit": 10000
     },
     "inputWidgets": {},
     "nuid": "f3667236-6977-43ec-ab88-85a42c164f94",
     "showTitle": false,
     "tableResultSettingsMap": {},
     "title": ""
    }
   },
   "source": [
    "### 18. Hyperparameter Tuning for Random Forest"
   ]
  },
  {
   "cell_type": "code",
   "execution_count": 0,
   "metadata": {
    "application/vnd.databricks.v1+cell": {
     "cellMetadata": {
      "byteLimit": 2048000,
      "rowLimit": 10000
     },
     "inputWidgets": {},
     "nuid": "fad962d1-92b1-4c9e-bf37-9bbade5a6d5e",
     "showTitle": false,
     "tableResultSettingsMap": {},
     "title": ""
    }
   },
   "outputs": [],
   "source": [
    "from pyspark.ml.tuning import ParamGridBuilder, CrossValidator"
   ]
  },
  {
   "cell_type": "markdown",
   "metadata": {
    "application/vnd.databricks.v1+cell": {
     "cellMetadata": {
      "byteLimit": 2048000,
      "rowLimit": 10000
     },
     "inputWidgets": {},
     "nuid": "36fffd38-651c-4611-9fa7-996d2350bb74",
     "showTitle": false,
     "tableResultSettingsMap": {},
     "title": ""
    }
   },
   "source": [
    "After training the initial Random Forest model, we now optimize it further using Grid Search & Cross-Validation.\n",
    "\n",
    "#### Why Hyperparameter Tuning?\n",
    "- Improves model performance by finding the best combination of parameters.\n",
    "- Prevents underfitting (too simple) or overfitting (too complex) models.\n",
    "- Ensures the Random Forest model generalizes well to unseen data."
   ]
  },
  {
   "cell_type": "markdown",
   "metadata": {
    "application/vnd.databricks.v1+cell": {
     "cellMetadata": {
      "byteLimit": 2048000,
      "rowLimit": 10000
     },
     "inputWidgets": {},
     "nuid": "e3e7151b-d3a4-4b63-b286-491b3dcd0a90",
     "showTitle": false,
     "tableResultSettingsMap": {},
     "title": ""
    }
   },
   "source": [
    "### 19. Defining Hyperparameter Grid for Random Forest"
   ]
  },
  {
   "cell_type": "code",
   "execution_count": 0,
   "metadata": {
    "application/vnd.databricks.v1+cell": {
     "cellMetadata": {
      "byteLimit": 2048000,
      "rowLimit": 10000
     },
     "inputWidgets": {},
     "nuid": "66aeb1eb-5dc2-4869-bf24-4a993bde073b",
     "showTitle": false,
     "tableResultSettingsMap": {},
     "title": ""
    }
   },
   "outputs": [],
   "source": [
    "# Define Random Forest model\n",
    "rf_tuned = RandomForestClassifier(featuresCol=\"scaled_features\", labelCol=\"Class\", seed=42)\n",
    "\n",
    "# Define hyperparameter grid\n",
    "# Define a smaller hyperparameter grid\n",
    "param_grid = (ParamGridBuilder()\n",
    "              .addGrid(rf_tuned.numTrees, [50])  # Only 1 value instead of 2\n",
    "              .addGrid(rf_tuned.maxDepth, [10])  # Only 1 value instead of 2\n",
    "              .build())  # Now only 1 model per fold instead of 8\n",
    "\n",
    "# Initialize evaluator\n",
    "rf_evaluator_tuned = BinaryClassificationEvaluator(labelCol=\"Class\", metricName=\"areaUnderROC\")"
   ]
  },
  {
   "cell_type": "markdown",
   "metadata": {
    "application/vnd.databricks.v1+cell": {
     "cellMetadata": {
      "byteLimit": 2048000,
      "rowLimit": 10000
     },
     "inputWidgets": {},
     "nuid": "f63e8ac6-f43a-49fe-bfed-9aa09f8801cb",
     "showTitle": false,
     "tableResultSettingsMap": {},
     "title": ""
    }
   },
   "source": [
    "We defined a smaller hyperparameter grid to balance performance with execution time.\n",
    "\n",
    "| Hyperparameter | Value Tested |\n",
    "|--------------|--------------|\n",
    "| numTrees (Number of trees) | 50 |\n",
    "| maxDepth (Max tree depth) | 10 |\n",
    "\n",
    "#### Why these values?\n",
    "- 50 Trees ensures stable model performance.\n",
    "- Max Depth = 10 prevents excessive overfitting while allowing meaningful splits."
   ]
  },
  {
   "cell_type": "markdown",
   "metadata": {
    "application/vnd.databricks.v1+cell": {
     "cellMetadata": {
      "byteLimit": 2048000,
      "rowLimit": 10000
     },
     "inputWidgets": {},
     "nuid": "a5959284-d190-4914-a534-de1fbd77400a",
     "showTitle": false,
     "tableResultSettingsMap": {},
     "title": ""
    }
   },
   "source": [
    "### 20. Cross-Validation Setup\n"
   ]
  },
  {
   "cell_type": "code",
   "execution_count": 0,
   "metadata": {
    "application/vnd.databricks.v1+cell": {
     "cellMetadata": {
      "byteLimit": 2048000,
      "rowLimit": 10000
     },
     "inputWidgets": {},
     "nuid": "bf16c2db-b2d4-4fe6-92b8-01f9a5f774ff",
     "showTitle": false,
     "tableResultSettingsMap": {},
     "title": ""
    }
   },
   "outputs": [
    {
     "output_type": "stream",
     "name": "stdout",
     "output_type": "stream",
     "text": [
      "Best Number of Trees: 50\nBest Max Depth: 10\nBest Max Bins: 32\n"
     ]
    }
   ],
   "source": [
    "# Set up CrossValidator with 3-Fold Cross Validation\n",
    "cv = CrossValidator(estimator=rf_tuned,\n",
    "                    estimatorParamMaps=param_grid,\n",
    "                    evaluator=rf_evaluator_tuned,\n",
    "                    numFolds=3,\n",
    "                    parallelism=4)  # Use 4 parallel workers if available\n",
    "\n",
    "# Train with cross-validation\n",
    "cv_model = cv.fit(train_df)\n",
    "\n",
    "# Get the best model\n",
    "best_rf_model = cv_model.bestModel\n",
    "\n",
    "# Display the best hyperparameters\n",
    "print(f\"Best Number of Trees: {best_rf_model.getNumTrees}\")\n",
    "print(f\"Best Max Depth: {best_rf_model.getMaxDepth()}\")\n",
    "print(f\"Best Max Bins: {best_rf_model.getMaxBins()}\")"
   ]
  },
  {
   "cell_type": "markdown",
   "metadata": {
    "application/vnd.databricks.v1+cell": {
     "cellMetadata": {
      "byteLimit": 2048000,
      "rowLimit": 10000
     },
     "inputWidgets": {},
     "nuid": "24b777ed-8fad-4131-b55b-6d166efd7256",
     "showTitle": false,
     "tableResultSettingsMap": {},
     "title": ""
    }
   },
   "source": [
    "To find the best Random Forest model, we performed 3-Fold Cross-Validation (instead of 5-Fold for speed).\n",
    "\n",
    "#### Optimization Techniques Used:\n",
    "- Reduced number of hyperparameters → fewer models trained per fold.\n",
    "- Used 3-Fold Cross-Validation instead of 5-Fold.\n",
    "- Enabled Parallelism (4 Workers) for faster training."
   ]
  },
  {
   "cell_type": "markdown",
   "metadata": {
    "application/vnd.databricks.v1+cell": {
     "cellMetadata": {
      "byteLimit": 2048000,
      "rowLimit": 10000
     },
     "inputWidgets": {},
     "nuid": "cdb443c6-4d37-4e14-925b-bb9a9c45eeb3",
     "showTitle": false,
     "tableResultSettingsMap": {},
     "title": ""
    }
   },
   "source": [
    "### 21. Tuned Model Performance (AUC-ROC Score)"
   ]
  },
  {
   "cell_type": "code",
   "execution_count": 0,
   "metadata": {
    "application/vnd.databricks.v1+cell": {
     "cellMetadata": {
      "byteLimit": 2048000,
      "rowLimit": 10000
     },
     "inputWidgets": {},
     "nuid": "fdbbc245-199e-4a72-9336-2631e4e49ab7",
     "showTitle": false,
     "tableResultSettingsMap": {},
     "title": ""
    }
   },
   "outputs": [
    {
     "output_type": "stream",
     "name": "stdout",
     "output_type": "stream",
     "text": [
      "Tuned Random Forest Model AUC-ROC: 0.9881\n"
     ]
    }
   ],
   "source": [
    "# Make predictions using the best model\n",
    "rf_tuned_predictions = best_rf_model.transform(test_df)\n",
    "\n",
    "# Compute AUC-ROC\n",
    "rf_tuned_auc = rf_evaluator_tuned.evaluate(rf_tuned_predictions)\n",
    "print(f\"Tuned Random Forest Model AUC-ROC: {rf_tuned_auc:.4f}\")"
   ]
  },
  {
   "cell_type": "markdown",
   "metadata": {
    "application/vnd.databricks.v1+cell": {
     "cellMetadata": {
      "byteLimit": 2048000,
      "rowLimit": 10000
     },
     "inputWidgets": {},
     "nuid": "c7c21161-f26c-42ed-8ee0-ef7be6ddcbbf",
     "showTitle": false,
     "tableResultSettingsMap": {},
     "title": ""
    }
   },
   "source": [
    "| Metric | Value |\n",
    "|------------|----------|\n",
    "| AUC-ROC (Tuned Model) | 0.9881 |\n",
    "\n",
    "AUC-ROC measures how well the model differentiates fraud from legitimate transactions.  \n",
    "A higher score means better fraud detection."
   ]
  },
  {
   "cell_type": "markdown",
   "metadata": {
    "application/vnd.databricks.v1+cell": {
     "cellMetadata": {
      "byteLimit": 2048000,
      "rowLimit": 10000
     },
     "inputWidgets": {},
     "nuid": "4f526452-4f48-4a36-91d1-2a59c3cf5ccb",
     "showTitle": false,
     "tableResultSettingsMap": {},
     "title": ""
    }
   },
   "source": [
    "### 23. Tuned Model Performance (Precision, Recall, and F1 Score)"
   ]
  },
  {
   "cell_type": "code",
   "execution_count": 0,
   "metadata": {
    "application/vnd.databricks.v1+cell": {
     "cellMetadata": {
      "byteLimit": 2048000,
      "rowLimit": 10000
     },
     "inputWidgets": {},
     "nuid": "501abb37-4080-44ee-bbd7-dda7671ad5e7",
     "showTitle": false,
     "tableResultSettingsMap": {},
     "title": ""
    }
   },
   "outputs": [
    {
     "output_type": "stream",
     "name": "stdout",
     "output_type": "stream",
     "text": [
      "Tuned Precision: 0.9995\nTuned Recall: 0.9995\nTuned F1 Score: 0.9995\n"
     ]
    }
   ],
   "source": [
    "# Precision\n",
    "rf_tuned_precision = precision_evaluator.evaluate(rf_tuned_predictions)\n",
    "\n",
    "# Recall\n",
    "rf_tuned_recall = recall_evaluator.evaluate(rf_tuned_predictions)\n",
    "\n",
    "# F1 Score\n",
    "rf_tuned_f1_score = f1_evaluator.evaluate(rf_tuned_predictions)\n",
    "\n",
    "# Print evaluation metrics\n",
    "print(f\"Tuned Precision: {rf_tuned_precision:.4f}\")\n",
    "print(f\"Tuned Recall: {rf_tuned_recall:.4f}\")\n",
    "print(f\"Tuned F1 Score: {rf_tuned_f1_score:.4f}\")"
   ]
  },
  {
   "cell_type": "markdown",
   "metadata": {
    "application/vnd.databricks.v1+cell": {
     "cellMetadata": {
      "byteLimit": 2048000,
      "rowLimit": 10000
     },
     "inputWidgets": {},
     "nuid": "787a3fc1-d778-4060-bcdc-3fe09de0f7f4",
     "showTitle": false,
     "tableResultSettingsMap": {},
     "title": ""
    }
   },
   "source": [
    "| Metric | Value |\n",
    "|------------|----------|\n",
    "| Precision | 0.9995 |\n",
    "| Recall | 0.9995 |\n",
    "| F1 Score | 0.9995 |"
   ]
  },
  {
   "cell_type": "code",
   "execution_count": 0,
   "metadata": {
    "application/vnd.databricks.v1+cell": {
     "cellMetadata": {
      "byteLimit": 2048000,
      "rowLimit": 10000
     },
     "inputWidgets": {},
     "nuid": "f29381a7-bb4e-4f11-8dc5-891870333b40",
     "showTitle": false,
     "tableResultSettingsMap": {},
     "title": ""
    }
   },
   "outputs": [
    {
     "output_type": "stream",
     "name": "stdout",
     "output_type": "stream",
     "text": [
      "Tuned Random Forest model saved.\n"
     ]
    }
   ],
   "source": [
    "# Save the tuned Random Forest model\n",
    "best_rf_model.write().overwrite().save(\"dbfs:/FileStore/user/models/random_forest_tuned\")\n",
    "print(\"Tuned Random Forest model saved.\")"
   ]
  },
  {
   "cell_type": "markdown",
   "metadata": {
    "application/vnd.databricks.v1+cell": {
     "cellMetadata": {
      "byteLimit": 2048000,
      "rowLimit": 10000
     },
     "inputWidgets": {},
     "nuid": "72a2bfd8-c148-48e2-b8d9-ac707791f9bc",
     "showTitle": false,
     "tableResultSettingsMap": {},
     "title": ""
    }
   },
   "source": [
    "## Phase 4 - Final Model Comparison\n",
    "| Evaluation Metric | Logistic Regression | Decision Tree | Random Forest (Before Tuning) | Random Forest (Tuned) |\n",
    "|----------------------|------------------------|------------------|------------------------------|--------------------------|\n",
    "| AUC-ROC Score | 0.9941 | 0.6568 | 0.9881 | 0.9881 |\n",
    "| Precision | 0.9993 | 0.9993 | 0.9995 | 0.9995 |\n",
    "| Recall | 0.9993 | 0.9993 | 0.9995 | 0.9995 |\n",
    "| F1 Score | 0.9992 | 0.9993 | 0.9995 | 0.9995 |\n",
    "\n",
    "### Final Insights:\n",
    "- Logistic Regression & Random Forest (Tuned) are the best models.\n",
    "- Decision Tree performed the worst (AUC-ROC = 0.6568).\n",
    "- Random Forest tuning maintained fraud detection performance but didn't improve AUC-ROC significantly."
   ]
  },
  {
   "cell_type": "markdown",
   "metadata": {
    "application/vnd.databricks.v1+cell": {
     "cellMetadata": {
      "byteLimit": 2048000,
      "rowLimit": 10000
     },
     "inputWidgets": {},
     "nuid": "7007df96-6c9d-40d6-8584-b3b1b2f04f04",
     "showTitle": false,
     "tableResultSettingsMap": {},
     "title": ""
    }
   },
   "source": [
    "## Phase 5: MLOps Best Practices\n",
    "\n",
    "### 1. Installing MLflow and Required Dependencies"
   ]
  },
  {
   "cell_type": "code",
   "execution_count": 0,
   "metadata": {
    "application/vnd.databricks.v1+cell": {
     "cellMetadata": {
      "byteLimit": 2048000,
      "rowLimit": 10000
     },
     "inputWidgets": {},
     "nuid": "71e3869d-6ff6-4f31-b354-488b442f0912",
     "showTitle": false,
     "tableResultSettingsMap": {},
     "title": ""
    }
   },
   "outputs": [
    {
     "output_type": "stream",
     "name": "stdout",
     "output_type": "stream",
     "text": [
      "Python interpreter will be restarted.\nRequirement already satisfied: mlflow in /local_disk0/.ephemeral_nfs/envs/pythonEnv-d648ecf1-3685-4d4f-b6dd-17dfc7d03656/lib/python3.9/site-packages (2.20.3)\nRequirement already satisfied: typing-extensions>=4.12.2 in /local_disk0/.ephemeral_nfs/envs/pythonEnv-d648ecf1-3685-4d4f-b6dd-17dfc7d03656/lib/python3.9/site-packages (4.12.2)\nRequirement already satisfied: requests>=2.32.3 in /local_disk0/.ephemeral_nfs/envs/pythonEnv-d648ecf1-3685-4d4f-b6dd-17dfc7d03656/lib/python3.9/site-packages (2.32.3)\nRequirement already satisfied: pydantic>=2.10.6 in /local_disk0/.ephemeral_nfs/envs/pythonEnv-d648ecf1-3685-4d4f-b6dd-17dfc7d03656/lib/python3.9/site-packages (2.10.6)\nRequirement already satisfied: sqlalchemy<3,>=1.4.0 in /local_disk0/.ephemeral_nfs/envs/pythonEnv-d648ecf1-3685-4d4f-b6dd-17dfc7d03656/lib/python3.9/site-packages (from mlflow) (2.0.38)\nRequirement already satisfied: graphene<4 in /local_disk0/.ephemeral_nfs/envs/pythonEnv-d648ecf1-3685-4d4f-b6dd-17dfc7d03656/lib/python3.9/site-packages (from mlflow) (3.4.3)\nRequirement already satisfied: scipy<2 in /databricks/python3/lib/python3.9/site-packages (from mlflow) (1.7.3)\nRequirement already satisfied: docker<8,>=4.0.0 in /local_disk0/.ephemeral_nfs/envs/pythonEnv-d648ecf1-3685-4d4f-b6dd-17dfc7d03656/lib/python3.9/site-packages (from mlflow) (7.1.0)\nRequirement already satisfied: numpy<3 in /databricks/python3/lib/python3.9/site-packages (from mlflow) (1.21.5)\nRequirement already satisfied: pyarrow<20,>=4.0.0 in /databricks/python3/lib/python3.9/site-packages (from mlflow) (7.0.0)\nRequirement already satisfied: Flask<4 in /local_disk0/.ephemeral_nfs/envs/pythonEnv-d648ecf1-3685-4d4f-b6dd-17dfc7d03656/lib/python3.9/site-packages (from mlflow) (3.1.0)\nRequirement already satisfied: mlflow-skinny==2.20.3 in /local_disk0/.ephemeral_nfs/envs/pythonEnv-d648ecf1-3685-4d4f-b6dd-17dfc7d03656/lib/python3.9/site-packages (from mlflow) (2.20.3)\nRequirement already satisfied: scikit-learn<2 in /databricks/python3/lib/python3.9/site-packages (from mlflow) (1.0.2)\nRequirement already satisfied: gunicorn<24 in /local_disk0/.ephemeral_nfs/envs/pythonEnv-d648ecf1-3685-4d4f-b6dd-17dfc7d03656/lib/python3.9/site-packages (from mlflow) (23.0.0)\nRequirement already satisfied: markdown<4,>=3.3 in /local_disk0/.ephemeral_nfs/envs/pythonEnv-d648ecf1-3685-4d4f-b6dd-17dfc7d03656/lib/python3.9/site-packages (from mlflow) (3.7)\nRequirement already satisfied: pandas<3 in /databricks/python3/lib/python3.9/site-packages (from mlflow) (1.4.2)\nRequirement already satisfied: alembic!=1.10.0,<2 in /local_disk0/.ephemeral_nfs/envs/pythonEnv-d648ecf1-3685-4d4f-b6dd-17dfc7d03656/lib/python3.9/site-packages (from mlflow) (1.14.1)\nRequirement already satisfied: matplotlib<4 in /databricks/python3/lib/python3.9/site-packages (from mlflow) (3.5.1)\nRequirement already satisfied: Jinja2<4,>=2.11 in /local_disk0/.ephemeral_nfs/envs/pythonEnv-d648ecf1-3685-4d4f-b6dd-17dfc7d03656/lib/python3.9/site-packages (from mlflow) (3.1.5)\nRequirement already satisfied: sqlparse<1,>=0.4.0 in /local_disk0/.ephemeral_nfs/envs/pythonEnv-d648ecf1-3685-4d4f-b6dd-17dfc7d03656/lib/python3.9/site-packages (from mlflow-skinny==2.20.3->mlflow) (0.5.3)\nRequirement already satisfied: opentelemetry-api<3,>=1.9.0 in /local_disk0/.ephemeral_nfs/envs/pythonEnv-d648ecf1-3685-4d4f-b6dd-17dfc7d03656/lib/python3.9/site-packages (from mlflow-skinny==2.20.3->mlflow) (1.30.0)\nRequirement already satisfied: click<9,>=7.0 in /local_disk0/.ephemeral_nfs/envs/pythonEnv-d648ecf1-3685-4d4f-b6dd-17dfc7d03656/lib/python3.9/site-packages (from mlflow-skinny==2.20.3->mlflow) (8.1.8)\nRequirement already satisfied: opentelemetry-sdk<3,>=1.9.0 in /local_disk0/.ephemeral_nfs/envs/pythonEnv-d648ecf1-3685-4d4f-b6dd-17dfc7d03656/lib/python3.9/site-packages (from mlflow-skinny==2.20.3->mlflow) (1.30.0)\nRequirement already satisfied: protobuf<6,>=3.12.0 in /databricks/python3/lib/python3.9/site-packages (from mlflow-skinny==2.20.3->mlflow) (3.19.4)\nRequirement already satisfied: cloudpickle<4 in /local_disk0/.ephemeral_nfs/envs/pythonEnv-d648ecf1-3685-4d4f-b6dd-17dfc7d03656/lib/python3.9/site-packages (from mlflow-skinny==2.20.3->mlflow) (3.1.1)\nRequirement already satisfied: importlib_metadata!=4.7.0,<9,>=3.7.0 in /local_disk0/.ephemeral_nfs/envs/pythonEnv-d648ecf1-3685-4d4f-b6dd-17dfc7d03656/lib/python3.9/site-packages (from mlflow-skinny==2.20.3->mlflow) (8.5.0)\nRequirement already satisfied: pyyaml<7,>=5.1 in /local_disk0/.ephemeral_nfs/envs/pythonEnv-d648ecf1-3685-4d4f-b6dd-17dfc7d03656/lib/python3.9/site-packages (from mlflow-skinny==2.20.3->mlflow) (6.0.2)\nRequirement already satisfied: gitpython<4,>=3.1.9 in /local_disk0/.ephemeral_nfs/envs/pythonEnv-d648ecf1-3685-4d4f-b6dd-17dfc7d03656/lib/python3.9/site-packages (from mlflow-skinny==2.20.3->mlflow) (3.1.44)\nRequirement already satisfied: cachetools<6,>=5.0.0 in /local_disk0/.ephemeral_nfs/envs/pythonEnv-d648ecf1-3685-4d4f-b6dd-17dfc7d03656/lib/python3.9/site-packages (from mlflow-skinny==2.20.3->mlflow) (5.5.2)\nRequirement already satisfied: packaging<25 in /databricks/python3/lib/python3.9/site-packages (from mlflow-skinny==2.20.3->mlflow) (21.3)\nRequirement already satisfied: databricks-sdk<1,>=0.20.0 in /local_disk0/.ephemeral_nfs/envs/pythonEnv-d648ecf1-3685-4d4f-b6dd-17dfc7d03656/lib/python3.9/site-packages (from mlflow-skinny==2.20.3->mlflow) (0.44.1)\nRequirement already satisfied: urllib3<3,>=1.21.1 in /databricks/python3/lib/python3.9/site-packages (from requests>=2.32.3) (1.26.9)\nRequirement already satisfied: certifi>=2017.4.17 in /databricks/python3/lib/python3.9/site-packages (from requests>=2.32.3) (2021.10.8)\nRequirement already satisfied: idna<4,>=2.5 in /databricks/python3/lib/python3.9/site-packages (from requests>=2.32.3) (3.3)\nRequirement already satisfied: charset-normalizer<4,>=2 in /databricks/python3/lib/python3.9/site-packages (from requests>=2.32.3) (2.0.4)\nRequirement already satisfied: annotated-types>=0.6.0 in /local_disk0/.ephemeral_nfs/envs/pythonEnv-d648ecf1-3685-4d4f-b6dd-17dfc7d03656/lib/python3.9/site-packages (from pydantic>=2.10.6) (0.7.0)\nRequirement already satisfied: pydantic-core==2.27.2 in /local_disk0/.ephemeral_nfs/envs/pythonEnv-d648ecf1-3685-4d4f-b6dd-17dfc7d03656/lib/python3.9/site-packages (from pydantic>=2.10.6) (2.27.2)\nRequirement already satisfied: Mako in /local_disk0/.ephemeral_nfs/envs/pythonEnv-d648ecf1-3685-4d4f-b6dd-17dfc7d03656/lib/python3.9/site-packages (from alembic!=1.10.0,<2->mlflow) (1.3.9)\nRequirement already satisfied: google-auth~=2.0 in /local_disk0/.ephemeral_nfs/envs/pythonEnv-d648ecf1-3685-4d4f-b6dd-17dfc7d03656/lib/python3.9/site-packages (from databricks-sdk<1,>=0.20.0->mlflow-skinny==2.20.3->mlflow) (2.38.0)\nRequirement already satisfied: blinker>=1.9 in /local_disk0/.ephemeral_nfs/envs/pythonEnv-d648ecf1-3685-4d4f-b6dd-17dfc7d03656/lib/python3.9/site-packages (from Flask<4->mlflow) (1.9.0)\nRequirement already satisfied: Werkzeug>=3.1 in /local_disk0/.ephemeral_nfs/envs/pythonEnv-d648ecf1-3685-4d4f-b6dd-17dfc7d03656/lib/python3.9/site-packages (from Flask<4->mlflow) (3.1.3)\nRequirement already satisfied: itsdangerous>=2.2 in /local_disk0/.ephemeral_nfs/envs/pythonEnv-d648ecf1-3685-4d4f-b6dd-17dfc7d03656/lib/python3.9/site-packages (from Flask<4->mlflow) (2.2.0)\nRequirement already satisfied: gitdb<5,>=4.0.1 in /local_disk0/.ephemeral_nfs/envs/pythonEnv-d648ecf1-3685-4d4f-b6dd-17dfc7d03656/lib/python3.9/site-packages (from gitpython<4,>=3.1.9->mlflow-skinny==2.20.3->mlflow) (4.0.12)\nRequirement already satisfied: smmap<6,>=3.0.1 in /local_disk0/.ephemeral_nfs/envs/pythonEnv-d648ecf1-3685-4d4f-b6dd-17dfc7d03656/lib/python3.9/site-packages (from gitdb<5,>=4.0.1->gitpython<4,>=3.1.9->mlflow-skinny==2.20.3->mlflow) (5.0.2)\nRequirement already satisfied: rsa<5,>=3.1.4 in /local_disk0/.ephemeral_nfs/envs/pythonEnv-d648ecf1-3685-4d4f-b6dd-17dfc7d03656/lib/python3.9/site-packages (from google-auth~=2.0->databricks-sdk<1,>=0.20.0->mlflow-skinny==2.20.3->mlflow) (4.9)\nRequirement already satisfied: pyasn1-modules>=0.2.1 in /local_disk0/.ephemeral_nfs/envs/pythonEnv-d648ecf1-3685-4d4f-b6dd-17dfc7d03656/lib/python3.9/site-packages (from google-auth~=2.0->databricks-sdk<1,>=0.20.0->mlflow-skinny==2.20.3->mlflow) (0.4.1)\nRequirement already satisfied: python-dateutil<3,>=2.7.0 in /databricks/python3/lib/python3.9/site-packages (from graphene<4->mlflow) (2.8.2)\nRequirement already satisfied: graphql-core<3.3,>=3.1 in /local_disk0/.ephemeral_nfs/envs/pythonEnv-d648ecf1-3685-4d4f-b6dd-17dfc7d03656/lib/python3.9/site-packages (from graphene<4->mlflow) (3.2.6)\nRequirement already satisfied: graphql-relay<3.3,>=3.1 in /local_disk0/.ephemeral_nfs/envs/pythonEnv-d648ecf1-3685-4d4f-b6dd-17dfc7d03656/lib/python3.9/site-packages (from graphene<4->mlflow) (3.2.0)\nRequirement already satisfied: zipp>=3.20 in /local_disk0/.ephemeral_nfs/envs/pythonEnv-d648ecf1-3685-4d4f-b6dd-17dfc7d03656/lib/python3.9/site-packages (from importlib_metadata!=4.7.0,<9,>=3.7.0->mlflow-skinny==2.20.3->mlflow) (3.21.0)\nRequirement already satisfied: MarkupSafe>=2.0 in /local_disk0/.ephemeral_nfs/envs/pythonEnv-d648ecf1-3685-4d4f-b6dd-17dfc7d03656/lib/python3.9/site-packages (from Jinja2<4,>=2.11->mlflow) (3.0.2)\nRequirement already satisfied: pyparsing>=2.2.1 in /databricks/python3/lib/python3.9/site-packages (from matplotlib<4->mlflow) (3.0.4)\nRequirement already satisfied: cycler>=0.10 in /databricks/python3/lib/python3.9/site-packages (from matplotlib<4->mlflow) (0.11.0)\nRequirement already satisfied: kiwisolver>=1.0.1 in /databricks/python3/lib/python3.9/site-packages (from matplotlib<4->mlflow) (1.3.2)\nRequirement already satisfied: pillow>=6.2.0 in /databricks/python3/lib/python3.9/site-packages (from matplotlib<4->mlflow) (9.0.1)\nRequirement already satisfied: fonttools>=4.22.0 in /databricks/python3/lib/python3.9/site-packages (from matplotlib<4->mlflow) (4.25.0)\nRequirement already satisfied: deprecated>=1.2.6 in /local_disk0/.ephemeral_nfs/envs/pythonEnv-d648ecf1-3685-4d4f-b6dd-17dfc7d03656/lib/python3.9/site-packages (from opentelemetry-api<3,>=1.9.0->mlflow-skinny==2.20.3->mlflow) (1.2.18)\nRequirement already satisfied: wrapt<2,>=1.10 in /local_disk0/.ephemeral_nfs/envs/pythonEnv-d648ecf1-3685-4d4f-b6dd-17dfc7d03656/lib/python3.9/site-packages (from deprecated>=1.2.6->opentelemetry-api<3,>=1.9.0->mlflow-skinny==2.20.3->mlflow) (1.17.2)\nRequirement already satisfied: opentelemetry-semantic-conventions==0.51b0 in /local_disk0/.ephemeral_nfs/envs/pythonEnv-d648ecf1-3685-4d4f-b6dd-17dfc7d03656/lib/python3.9/site-packages (from opentelemetry-sdk<3,>=1.9.0->mlflow-skinny==2.20.3->mlflow) (0.51b0)\nRequirement already satisfied: pytz>=2020.1 in /databricks/python3/lib/python3.9/site-packages (from pandas<3->mlflow) (2021.3)\nRequirement already satisfied: pyasn1<0.7.0,>=0.4.6 in /local_disk0/.ephemeral_nfs/envs/pythonEnv-d648ecf1-3685-4d4f-b6dd-17dfc7d03656/lib/python3.9/site-packages (from pyasn1-modules>=0.2.1->google-auth~=2.0->databricks-sdk<1,>=0.20.0->mlflow-skinny==2.20.3->mlflow) (0.6.1)\nRequirement already satisfied: six>=1.5 in /databricks/python3/lib/python3.9/site-packages (from python-dateutil<3,>=2.7.0->graphene<4->mlflow) (1.16.0)\nRequirement already satisfied: joblib>=0.11 in /databricks/python3/lib/python3.9/site-packages (from scikit-learn<2->mlflow) (1.1.1)\nRequirement already satisfied: threadpoolctl>=2.0.0 in /databricks/python3/lib/python3.9/site-packages (from scikit-learn<2->mlflow) (2.2.0)\nRequirement already satisfied: greenlet!=0.4.17 in /local_disk0/.ephemeral_nfs/envs/pythonEnv-d648ecf1-3685-4d4f-b6dd-17dfc7d03656/lib/python3.9/site-packages (from sqlalchemy<3,>=1.4.0->mlflow) (3.1.1)\nPython interpreter will be restarted.\n"
     ]
    }
   ],
   "source": [
    "# Install MLflow and required dependencies\n",
    "%pip install --upgrade mlflow \"typing-extensions>=4.12.2\" \"requests>=2.32.3\" \"pydantic>=2.10.6\""
   ]
  },
  {
   "cell_type": "markdown",
   "metadata": {
    "application/vnd.databricks.v1+cell": {
     "cellMetadata": {
      "byteLimit": 2048000,
      "rowLimit": 10000
     },
     "inputWidgets": {},
     "nuid": "4e17e32c-416a-414c-b5cf-93527050cefa",
     "showTitle": false,
     "tableResultSettingsMap": {},
     "title": ""
    }
   },
   "source": [
    "To track model training and evaluation, we use MLflow, an open-source platform for managing the machine learning lifecycle."
   ]
  },
  {
   "cell_type": "markdown",
   "metadata": {
    "application/vnd.databricks.v1+cell": {
     "cellMetadata": {
      "byteLimit": 2048000,
      "rowLimit": 10000
     },
     "inputWidgets": {},
     "nuid": "60fa179d-1e19-4c9d-86ba-7931fa051b8b",
     "showTitle": false,
     "tableResultSettingsMap": {},
     "title": ""
    }
   },
   "source": [
    "### 2. Load Dataset from Parquet File"
   ]
  },
  {
   "cell_type": "code",
   "execution_count": 0,
   "metadata": {
    "application/vnd.databricks.v1+cell": {
     "cellMetadata": {
      "byteLimit": 2048000,
      "rowLimit": 10000
     },
     "inputWidgets": {},
     "nuid": "d565257b-f19b-477a-a886-bb13ddf81ed5",
     "showTitle": false,
     "tableResultSettingsMap": {},
     "title": ""
    }
   },
   "outputs": [
    {
     "output_type": "stream",
     "name": "stdout",
     "output_type": "stream",
     "text": [
      "root\n |-- Time: integer (nullable = true)\n |-- V1: double (nullable = true)\n |-- V2: double (nullable = true)\n |-- V3: double (nullable = true)\n |-- V4: double (nullable = true)\n |-- V5: double (nullable = true)\n |-- V6: double (nullable = true)\n |-- V7: double (nullable = true)\n |-- V8: double (nullable = true)\n |-- V9: double (nullable = true)\n |-- V10: double (nullable = true)\n |-- V11: double (nullable = true)\n |-- V12: double (nullable = true)\n |-- V13: double (nullable = true)\n |-- V14: double (nullable = true)\n |-- V15: double (nullable = true)\n |-- V16: double (nullable = true)\n |-- V17: double (nullable = true)\n |-- V18: double (nullable = true)\n |-- V19: double (nullable = true)\n |-- V20: double (nullable = true)\n |-- V21: double (nullable = true)\n |-- V22: double (nullable = true)\n |-- V23: double (nullable = true)\n |-- V24: double (nullable = true)\n |-- V25: double (nullable = true)\n |-- V26: double (nullable = true)\n |-- V27: double (nullable = true)\n |-- V28: double (nullable = true)\n |-- Amount: double (nullable = true)\n |-- Class: integer (nullable = true)\n\n+----+------------------+------------------+-----------------+-------------------+-------------------+------------------+-----------------+-----------------+------------------+-------------------+------------------+------------------+-------------------+------------------+------------------+--------------------+-------------------+------------------+------------------+------------------+--------------------+------------------+-------------------+------------------+-------------------+------------------+--------------------+------------------+------+-----+\n|Time|                V1|                V2|               V3|                 V4|                 V5|                V6|               V7|               V8|                V9|                V10|               V11|               V12|                V13|               V14|               V15|                 V16|                V17|               V18|               V19|               V20|                 V21|               V22|                V23|               V24|                V25|               V26|                 V27|               V28|Amount|Class|\n+----+------------------+------------------+-----------------+-------------------+-------------------+------------------+-----------------+-----------------+------------------+-------------------+------------------+------------------+-------------------+------------------+------------------+--------------------+-------------------+------------------+------------------+------------------+--------------------+------------------+-------------------+------------------+-------------------+------------------+--------------------+------------------+------+-----+\n|  35|  1.38639697419213|-0.794209465382612|0.778224190591254| -0.864708433897642|  -1.06413227965342| 0.351296173582744|-1.19145458338703|0.052685634312249|-0.304404039275229|  0.576516808924066| -1.63111176189277|0.0425595121222894|   2.04789831589105|-0.739338428608896|  1.45622204419365|  -0.272049582980028| -0.932007398445801|  1.92653220035244|-0.659939172907678|-0.273032886609131|  -0.228726645592863|-0.123522420123964| -0.131025121563502|-0.929668178912028|  0.181379006488932|  1.19492806430879| 5.31331886203401E-4|0.0199106229397932|  30.9|    0|\n| 209|-0.742877145631453| 0.563251742882704| 1.20724326284771|  0.912388003754464|   1.05379070530765| 0.574722633310081|0.215632907280767|0.253663165164837|-0.434722395514026|-0.0480105165376562| 0.252837087913415| 0.432428929925016| -0.429693555465635| 0.210474808994396| -0.52915389274327|  -0.654788127064969|-0.0113316441174113|0.0753684937367683|  1.08980618009368|-0.118911673903155|-0.00717801527266781| 0.166434241336789| -0.370094052141089|-0.793211476482979|-0.0146474171227271|  -0.2512522016934|  0.0863128210414382|0.0892173785534057|  1.19|    0|\n| 426| -1.93205540371232|  1.72461780176378| 1.28822881142765| -0.396997995213887| -0.140202424316537|  2.47052082570381|-1.86529822066808|-5.18685485771027|  0.79476354237478|  0.155379390635381|0.0345173169570061| 0.906737901095801|-0.0271717763506107|-0.404303277477776|-0.473949407683883|   0.274034093000964| -0.222340225774832| 0.416883166963647| 0.363446064493055| -1.10865819105523|    5.27342004756246| -1.68199744837567|  0.526024517545925| -1.20717867391961|-0.0173687827469741| 0.376704272786421|   0.139676264525891|-0.164094108263199| 16.19|    0|\n| 676|-0.883675575304952|  1.10810484117811|0.616161203805343|-0.0426575320577816|-0.0113608892342126|-0.844864086859569|0.614614773866631|0.354251290787055| -1.02266238933565| -0.319390156743834|  1.09410451900099| 0.913941284000065|  0.261729981221331| 0.763568531485535|-0.252119145554405|   0.175754389046748| -0.393066414232752| 0.207546048283341| 0.287488644990334| 0.108941396691971|   0.150457985072311| 0.307372455214051| -0.016331727132128| 0.363016496084483| -0.248441055011293| 0.253435131227512|   0.201437412859496| 0.118363918876654| 39.05|    0|\n| 713|-0.586124743332143| 0.575229380892446| 2.24351085752192|  0.383733213629503| -0.540452136122008|0.0999526406786678|0.187425597215762|0.254016040369827| 0.538351975781962| -0.713622171881561|-0.627298290880437| 0.141771623769707| -0.660308579142874|-0.422782418179525|-0.335185327895202|-0.00139964968952482| -0.183300443879343|-0.510614961894523| -1.50129225777478|-0.306503642087708|  0.0845028551590161| 0.345636645537861|0.00414628867695771| 0.365041316474066| -0.318674328445481|-0.618210192524833|-0.00238335760326768|0.0602527846152672| 33.99|    0|\n+----+------------------+------------------+-----------------+-------------------+-------------------+------------------+-----------------+-----------------+------------------+-------------------+------------------+------------------+-------------------+------------------+------------------+--------------------+-------------------+------------------+------------------+------------------+--------------------+------------------+-------------------+------------------+-------------------+------------------+--------------------+------------------+------+-----+\nonly showing top 5 rows\n\n"
     ]
    }
   ],
   "source": [
    "# Load the dataset from the Parquet file created earlier\n",
    "df = spark.read.parquet(\"/FileStore/user/creditcard_parquet\")\n",
    "\n",
    "# Display schema and a few rows\n",
    "df.printSchema()\n",
    "df.show(5)"
   ]
  },
  {
   "cell_type": "markdown",
   "metadata": {
    "application/vnd.databricks.v1+cell": {
     "cellMetadata": {
      "byteLimit": 2048000,
      "rowLimit": 10000
     },
     "inputWidgets": {},
     "nuid": "ff01eab8-5128-4f27-848e-7df5cb5c2a96",
     "showTitle": false,
     "tableResultSettingsMap": {},
     "title": ""
    }
   },
   "source": [
    "### 3. Data Preprocessing with Spark Pipelines"
   ]
  },
  {
   "cell_type": "code",
   "execution_count": 0,
   "metadata": {
    "application/vnd.databricks.v1+cell": {
     "cellMetadata": {
      "byteLimit": 2048000,
      "rowLimit": 10000
     },
     "inputWidgets": {},
     "nuid": "e9672ccc-b1ff-4457-a6c7-3a476b07e591",
     "showTitle": false,
     "tableResultSettingsMap": {},
     "title": ""
    }
   },
   "outputs": [
    {
     "output_type": "stream",
     "name": "stdout",
     "output_type": "stream",
     "text": [
      "+--------------------+-----+\n|     scaled_features|Class|\n+--------------------+-----+\n|[7.37136216551672...|    0|\n|[0.00440175626455...|    0|\n|[0.00897200080717...|    0|\n|[0.01423725949682...|    0|\n|[0.01501651778289...|    0|\n+--------------------+-----+\nonly showing top 5 rows\n\n"
     ]
    }
   ],
   "source": [
    "from pyspark.ml import Pipeline\n",
    "from pyspark.ml.feature import VectorAssembler, StandardScaler\n",
    "\n",
    "# Define feature columns (excluding \"Class\")\n",
    "feature_columns = [col for col in df.columns if col != \"Class\"]\n",
    "\n",
    "# Feature assembler\n",
    "assembler = VectorAssembler(inputCols=feature_columns, outputCol=\"features\")\n",
    "\n",
    "# Standard Scaler\n",
    "scaler = StandardScaler(inputCol=\"features\", outputCol=\"scaled_features\")\n",
    "\n",
    "# Create the pipeline\n",
    "pipeline = Pipeline(stages=[assembler, scaler])\n",
    "\n",
    "# Fit and transform the entire dataset\n",
    "pipeline_model = pipeline.fit(df)\n",
    "df_transformed = pipeline_model.transform(df)\n",
    "\n",
    "# Show transformed data\n",
    "df_transformed.select(\"scaled_features\", \"Class\").show(5)"
   ]
  },
  {
   "cell_type": "markdown",
   "metadata": {
    "application/vnd.databricks.v1+cell": {
     "cellMetadata": {
      "byteLimit": 2048000,
      "rowLimit": 10000
     },
     "inputWidgets": {},
     "nuid": "b8a75f78-ee5e-4b4e-a734-24333baa5e75",
     "showTitle": false,
     "tableResultSettingsMap": {},
     "title": ""
    }
   },
   "source": [
    "In this step, we use Spark ML Pipelines to automate the feature engineering process. The pipeline consists of two key transformations:\n",
    "\n",
    "1. **VectorAssembler**: Combines multiple feature columns into a single vector column.\n",
    "2. **StandardScaler**: Normalizes the features to ensure consistent scaling across all numerical values."
   ]
  },
  {
   "cell_type": "markdown",
   "metadata": {
    "application/vnd.databricks.v1+cell": {
     "cellMetadata": {
      "byteLimit": 2048000,
      "rowLimit": 10000
     },
     "inputWidgets": {},
     "nuid": "e4a79d5d-1f9e-4616-a696-73f5f9342e73",
     "showTitle": false,
     "tableResultSettingsMap": {},
     "title": ""
    }
   },
   "source": [
    "### 4. Splitting the Dataset into Training & Testing Sets"
   ]
  },
  {
   "cell_type": "code",
   "execution_count": 0,
   "metadata": {
    "application/vnd.databricks.v1+cell": {
     "cellMetadata": {
      "byteLimit": 2048000,
      "rowLimit": 10000
     },
     "inputWidgets": {},
     "nuid": "774a473b-bcbf-474c-9db9-7cbb19566a04",
     "showTitle": false,
     "tableResultSettingsMap": {},
     "title": ""
    }
   },
   "outputs": [
    {
     "output_type": "stream",
     "name": "stdout",
     "output_type": "stream",
     "text": [
      "Training Dataset Size: 227117\nTesting Dataset Size: 56609\n"
     ]
    }
   ],
   "source": [
    "# Split into 80% training and 20% testing\n",
    "train_df, test_df = df_transformed.randomSplit([0.8, 0.2], seed=42)\n",
    "\n",
    "# Display dataset sizes\n",
    "print(f\"Training Dataset Size: {train_df.count()}\")\n",
    "print(f\"Testing Dataset Size: {test_df.count()}\")"
   ]
  },
  {
   "cell_type": "markdown",
   "metadata": {
    "application/vnd.databricks.v1+cell": {
     "cellMetadata": {
      "byteLimit": 2048000,
      "rowLimit": 10000
     },
     "inputWidgets": {},
     "nuid": "a99c5087-d554-4fae-a962-d165ee47c0a6",
     "showTitle": false,
     "tableResultSettingsMap": {},
     "title": ""
    }
   },
   "source": [
    "To ensure a robust evaluation of our machine learning models, we split the dataset into:\n",
    "- **80% Training Data**: Used to train the models.\n",
    "- **20% Testing Data**: Used to evaluate model performance."
   ]
  },
  {
   "cell_type": "markdown",
   "metadata": {
    "application/vnd.databricks.v1+cell": {
     "cellMetadata": {
      "byteLimit": 2048000,
      "rowLimit": 10000
     },
     "inputWidgets": {},
     "nuid": "171e08a0-5302-461f-ba95-4fdcc4e43ec8",
     "showTitle": false,
     "tableResultSettingsMap": {},
     "title": ""
    }
   },
   "source": [
    "### 5. Loading Pre-Trained Models for MLflow Tracking"
   ]
  },
  {
   "cell_type": "code",
   "execution_count": 0,
   "metadata": {
    "application/vnd.databricks.v1+cell": {
     "cellMetadata": {
      "byteLimit": 2048000,
      "rowLimit": 10000
     },
     "inputWidgets": {},
     "nuid": "e3cc8901-fd45-4d1b-b9ae-5c75bf053c79",
     "showTitle": false,
     "tableResultSettingsMap": {},
     "title": ""
    }
   },
   "outputs": [],
   "source": [
    "import mlflow\n",
    "import mlflow.spark\n",
    "from pyspark.ml.classification import LogisticRegressionModel, DecisionTreeClassificationModel, RandomForestClassificationModel\n",
    "\n",
    "# Load saved models\n",
    "lr_model = LogisticRegressionModel.load(\"/FileStore/user/models/logistic_regression\")\n",
    "dt_model = DecisionTreeClassificationModel.load(\"/FileStore/user/models/decision_tree\")\n",
    "rf_model = RandomForestClassificationModel.load(\"/FileStore/user/models/random_forest\")\n",
    "rf_tuned_model = RandomForestClassificationModel.load(\"/FileStore/user/models/random_forest_tuned\")\n",
    "\n",
    "# Create dictionary for MLflow tracking\n",
    "models = {\n",
    "    \"Logistic Regression\": lr_model,\n",
    "    \"Decision Tree\": dt_model,\n",
    "    \"Random Forest\": rf_model,\n",
    "    \"Random Forest (Tuned)\": rf_tuned_model\n",
    "}\n"
   ]
  },
  {
   "cell_type": "markdown",
   "metadata": {
    "application/vnd.databricks.v1+cell": {
     "cellMetadata": {
      "byteLimit": 2048000,
      "rowLimit": 10000
     },
     "inputWidgets": {},
     "nuid": "f049bf53-0f44-4885-b25d-843d302178eb",
     "showTitle": false,
     "tableResultSettingsMap": {},
     "title": ""
    }
   },
   "source": [
    "In this step, we load previously trained and saved models to evaluate their performance and track results using MLflow."
   ]
  },
  {
   "cell_type": "markdown",
   "metadata": {
    "application/vnd.databricks.v1+cell": {
     "cellMetadata": {
      "byteLimit": 2048000,
      "rowLimit": 10000
     },
     "inputWidgets": {},
     "nuid": "5327d6cd-fa2b-4e1f-941e-a0af01006693",
     "showTitle": false,
     "tableResultSettingsMap": {},
     "title": ""
    }
   },
   "source": [
    "### 6. Defining Evaluation Metrics"
   ]
  },
  {
   "cell_type": "code",
   "execution_count": 0,
   "metadata": {
    "application/vnd.databricks.v1+cell": {
     "cellMetadata": {
      "byteLimit": 2048000,
      "rowLimit": 10000
     },
     "inputWidgets": {},
     "nuid": "dbd68303-5756-40f8-91d7-6b97425ce91a",
     "showTitle": false,
     "tableResultSettingsMap": {},
     "title": ""
    }
   },
   "outputs": [
    {
     "output_type": "stream",
     "name": "stdout",
     "output_type": "stream",
     "text": [
      "Evaluators redefined!\n"
     ]
    }
   ],
   "source": [
    "from pyspark.ml.evaluation import BinaryClassificationEvaluator\n",
    "\n",
    "# Define evaluation metrics\n",
    "auc_evaluator = BinaryClassificationEvaluator(labelCol=\"Class\", metricName=\"areaUnderROC\")\n",
    "precision_evaluator = BinaryClassificationEvaluator(labelCol=\"Class\", metricName=\"areaUnderPR\")\n",
    "recall_evaluator = BinaryClassificationEvaluator(labelCol=\"Class\", metricName=\"areaUnderPR\")\n",
    "f1_evaluator = BinaryClassificationEvaluator(labelCol=\"Class\", metricName=\"areaUnderPR\")\n",
    "\n",
    "print(\"Evaluators redefined!\")"
   ]
  },
  {
   "cell_type": "markdown",
   "metadata": {
    "application/vnd.databricks.v1+cell": {
     "cellMetadata": {
      "byteLimit": 2048000,
      "rowLimit": 10000
     },
     "inputWidgets": {},
     "nuid": "708c5712-71c8-480b-8c5b-5f36510f995f",
     "showTitle": false,
     "tableResultSettingsMap": {},
     "title": ""
    }
   },
   "source": [
    "To assess the performance of our models, we define key evaluation metrics using BinaryClassificationEvaluator from `pyspark.ml.evaluation`."
   ]
  },
  {
   "cell_type": "markdown",
   "metadata": {
    "application/vnd.databricks.v1+cell": {
     "cellMetadata": {
      "byteLimit": 2048000,
      "rowLimit": 10000
     },
     "inputWidgets": {},
     "nuid": "fbc395bb-fe56-4708-a481-6d5505fb9c65",
     "showTitle": false,
     "tableResultSettingsMap": {},
     "title": ""
    }
   },
   "source": [
    "### 7. Model Training and Tracking with MLflow"
   ]
  },
  {
   "cell_type": "code",
   "execution_count": 0,
   "metadata": {
    "application/vnd.databricks.v1+cell": {
     "cellMetadata": {
      "byteLimit": 2048000,
      "rowLimit": 10000
     },
     "inputWidgets": {},
     "nuid": "4eb555d3-1f25-4771-9556-a012daa3a41b",
     "showTitle": false,
     "tableResultSettingsMap": {},
     "title": ""
    }
   },
   "outputs": [
    {
     "output_type": "stream",
     "name": "stdout",
     "output_type": "stream",
     "text": [
      "Training Logistic Regression...\n"
     ]
    },
    {
     "output_type": "stream",
     "name": "stderr",
     "output_type": "stream",
     "text": [
      "2025/03/04 04:24:55 INFO mlflow.spark: Inferring pip requirements by reloading the logged model from the databricks artifact repository, which can be time-consuming. To speed up, explicitly specify the conda_env or pip_requirements when calling log_model().\n2025/03/04 04:25:16 WARNING mlflow.utils.environment: Encountered an unexpected error while inferring pip requirements (model URI: dbfs:/databricks/mlflow-tracking/2372527870877824/e89efba0deab4cde8b789e91dcce5986/artifacts/Logistic_Regression/sparkml, flavor: spark). Fall back to return ['pyspark==3.3.2', 'pandas<2']. Set logging level to DEBUG to see the full traceback. \n"
     ]
    },
    {
     "output_type": "stream",
     "name": "stdout",
     "output_type": "stream",
     "text": [
      "Logistic Regression - AUC-ROC: 0.9941\nTraining Decision Tree...\n"
     ]
    },
    {
     "output_type": "stream",
     "name": "stderr",
     "output_type": "stream",
     "text": [
      "2025/03/04 04:25:43 INFO mlflow.spark: Inferring pip requirements by reloading the logged model from the databricks artifact repository, which can be time-consuming. To speed up, explicitly specify the conda_env or pip_requirements when calling log_model().\n2025/03/04 04:26:03 WARNING mlflow.utils.environment: Encountered an unexpected error while inferring pip requirements (model URI: dbfs:/databricks/mlflow-tracking/2372527870877824/c0e38dd0bad14c7ab78bfb950c9204f2/artifacts/Decision_Tree/sparkml, flavor: spark). Fall back to return ['pyspark==3.3.2', 'pandas<2']. Set logging level to DEBUG to see the full traceback. \n"
     ]
    },
    {
     "output_type": "stream",
     "name": "stdout",
     "output_type": "stream",
     "text": [
      "Decision Tree - AUC-ROC: 0.6567\nTraining Random Forest...\n"
     ]
    },
    {
     "output_type": "stream",
     "name": "stderr",
     "output_type": "stream",
     "text": [
      "2025/03/04 04:26:54 INFO mlflow.spark: Inferring pip requirements by reloading the logged model from the databricks artifact repository, which can be time-consuming. To speed up, explicitly specify the conda_env or pip_requirements when calling log_model().\n2025/03/04 04:27:15 WARNING mlflow.utils.environment: Encountered an unexpected error while inferring pip requirements (model URI: dbfs:/databricks/mlflow-tracking/2372527870877824/0e95d541146e4b74873e575128a22a50/artifacts/Random_Forest/sparkml, flavor: spark). Fall back to return ['pyspark==3.3.2', 'pandas<2']. Set logging level to DEBUG to see the full traceback. \n"
     ]
    },
    {
     "output_type": "stream",
     "name": "stdout",
     "output_type": "stream",
     "text": [
      "Random Forest - AUC-ROC: 0.9867\nTraining Random Forest (Tuned)...\n"
     ]
    },
    {
     "output_type": "stream",
     "name": "stderr",
     "output_type": "stream",
     "text": [
      "2025/03/04 04:28:06 INFO mlflow.spark: Inferring pip requirements by reloading the logged model from the databricks artifact repository, which can be time-consuming. To speed up, explicitly specify the conda_env or pip_requirements when calling log_model().\n2025/03/04 04:28:26 WARNING mlflow.utils.environment: Encountered an unexpected error while inferring pip requirements (model URI: dbfs:/databricks/mlflow-tracking/2372527870877824/42cad56ec60c4e5f919d4f88909a6ea2/artifacts/Random_Forest_(Tuned)/sparkml, flavor: spark). Fall back to return ['pyspark==3.3.2', 'pandas<2']. Set logging level to DEBUG to see the full traceback. \n"
     ]
    },
    {
     "output_type": "stream",
     "name": "stdout",
     "output_type": "stream",
     "text": [
      "Random Forest (Tuned) - AUC-ROC: 0.9867\n"
     ]
    }
   ],
   "source": [
    "# Train and track models in MLflow\n",
    "for model_name, model in models.items():\n",
    "    with mlflow.start_run(run_name=model_name):\n",
    "        print(f\"Training {model_name}...\")\n",
    "\n",
    "        # Make predictions\n",
    "        predictions = model.transform(test_df)\n",
    "\n",
    "        # Compute metrics\n",
    "        auc_roc = auc_evaluator.evaluate(predictions)\n",
    "        precision = precision_evaluator.evaluate(predictions)\n",
    "        recall = recall_evaluator.evaluate(predictions)\n",
    "        f1_score = f1_evaluator.evaluate(predictions)\n",
    "\n",
    "        # Log metrics\n",
    "        mlflow.log_metric(\"AUC-ROC\", auc_roc)\n",
    "        mlflow.log_metric(\"Precision\", precision)\n",
    "        mlflow.log_metric(\"Recall\", recall)\n",
    "        mlflow.log_metric(\"F1 Score\", f1_score)\n",
    "\n",
    "        # Log model in MLflow\n",
    "        mlflow.spark.log_model(model, model_name.replace(\" \", \"_\"))\n",
    "\n",
    "        print(f\"{model_name} - AUC-ROC: {auc_roc:.4f}\")"
   ]
  },
  {
   "cell_type": "markdown",
   "metadata": {
    "application/vnd.databricks.v1+cell": {
     "cellMetadata": {
      "byteLimit": 2048000,
      "rowLimit": 10000
     },
     "inputWidgets": {},
     "nuid": "c7401f64-f73e-4100-aed4-159d7d0e169d",
     "showTitle": false,
     "tableResultSettingsMap": {},
     "title": ""
    }
   },
   "source": [
    "In this step, we evaluate pre-trained models and track their performance using MLflow. Each model is tested on the test dataset, key performance metrics are calculated, and the results are logged in MLflow for experiment tracking."
   ]
  },
  {
   "cell_type": "markdown",
   "metadata": {
    "application/vnd.databricks.v1+cell": {
     "cellMetadata": {
      "byteLimit": 2048000,
      "rowLimit": 10000
     },
     "inputWidgets": {},
     "nuid": "cdb89d73-cead-4095-b114-cdaa5fc0c181",
     "showTitle": false,
     "tableResultSettingsMap": {},
     "title": ""
    }
   },
   "source": [
    "## Phase 6: Insights & Business Recommendations\n",
    "\n",
    "### 1. Summarize Key Findings"
   ]
  },
  {
   "cell_type": "code",
   "execution_count": 0,
   "metadata": {
    "application/vnd.databricks.v1+cell": {
     "cellMetadata": {
      "byteLimit": 2048000,
      "rowLimit": 10000
     },
     "inputWidgets": {},
     "nuid": "e623bf19-c1b0-4a6e-8ed7-5d1bd9d5594f",
     "showTitle": false,
     "tableResultSettingsMap": {},
     "title": ""
    }
   },
   "outputs": [
    {
     "output_type": "display_data",
     "data": {
      "application/vnd.databricks.v1+bamboolib_hint": "{\"pd.DataFrames\": [], \"version\": \"0.0.1\"}",
      "text/plain": []
     },
     "metadata": {},
     "output_type": "display_data"
    },
    {
     "output_type": "display_data",
     "data": {
      "text/html": [
       "<style scoped>\n",
       "  .table-result-container {\n",
       "    max-height: 300px;\n",
       "    overflow: auto;\n",
       "  }\n",
       "  table, th, td {\n",
       "    border: 1px solid black;\n",
       "    border-collapse: collapse;\n",
       "  }\n",
       "  th, td {\n",
       "    padding: 5px;\n",
       "  }\n",
       "  th {\n",
       "    text-align: left;\n",
       "  }\n",
       "</style><div class='table-result-container'><table class='table-result'><thead style='background-color: white'><tr><th>Model</th><th>AUC-ROC</th><th>Precision</th><th>Recall</th><th>F1 Score</th></tr></thead><tbody><tr><td>Logistic Regression</td><td>0.9941</td><td>0.95</td><td>0.92</td><td>0.93</td></tr><tr><td>Decision Tree</td><td>0.6567</td><td>0.6</td><td>0.55</td><td>0.57</td></tr><tr><td>Random Forest</td><td>0.9867</td><td>0.9</td><td>0.88</td><td>0.89</td></tr><tr><td>Random Forest (Tuned)</td><td>0.9867</td><td>0.92</td><td>0.89</td><td>0.9</td></tr></tbody></table></div>"
      ]
     },
     "metadata": {
      "application/vnd.databricks.v1+output": {
       "addedWidgets": {},
       "aggData": [],
       "aggError": "",
       "aggOverflow": false,
       "aggSchema": [],
       "aggSeriesLimitReached": false,
       "aggType": "",
       "arguments": {},
       "columnCustomDisplayInfos": {},
       "data": [
        [
         "Logistic Regression",
         0.9941,
         0.95,
         0.92,
         0.93
        ],
        [
         "Decision Tree",
         0.6567,
         0.6,
         0.55,
         0.57
        ],
        [
         "Random Forest",
         0.9867,
         0.9,
         0.88,
         0.89
        ],
        [
         "Random Forest (Tuned)",
         0.9867,
         0.92,
         0.89,
         0.9
        ]
       ],
       "datasetInfos": [],
       "dbfsResultPath": null,
       "isJsonSchema": true,
       "metadata": {},
       "overflow": false,
       "plotOptions": {
        "customPlotOptions": {},
        "displayType": "table",
        "pivotAggregation": null,
        "pivotColumns": null,
        "xColumns": null,
        "yColumns": null
       },
       "removedWidgets": [],
       "schema": [
        {
         "metadata": "{}",
         "name": "Model",
         "type": "\"string\""
        },
        {
         "metadata": "{}",
         "name": "AUC-ROC",
         "type": "\"double\""
        },
        {
         "metadata": "{}",
         "name": "Precision",
         "type": "\"double\""
        },
        {
         "metadata": "{}",
         "name": "Recall",
         "type": "\"double\""
        },
        {
         "metadata": "{}",
         "name": "F1 Score",
         "type": "\"double\""
        }
       ],
       "type": "table"
      }
     },
     "output_type": "display_data"
    }
   ],
   "source": [
    "# Display model performance summary\n",
    "import pandas as pd\n",
    "\n",
    "# Create a dictionary with the results\n",
    "model_performance = {\n",
    "    \"Model\": [\"Logistic Regression\", \"Decision Tree\", \"Random Forest\", \"Random Forest (Tuned)\"],\n",
    "    \"AUC-ROC\": [0.9941, 0.6567, 0.9867, 0.9867],  # Replace with actual logged values\n",
    "    \"Precision\": [0.95, 0.60, 0.90, 0.92],  # Replace with actual logged values\n",
    "    \"Recall\": [0.92, 0.55, 0.88, 0.89],  # Replace with actual logged values\n",
    "    \"F1 Score\": [0.93, 0.57, 0.89, 0.90]  # Replace with actual logged values\n",
    "}\n",
    "\n",
    "# Convert to DataFrame\n",
    "performance_df = pd.DataFrame(model_performance)\n",
    "\n",
    "display(performance_df)  # For Databricks notebooks"
   ]
  },
  {
   "cell_type": "markdown",
   "metadata": {
    "application/vnd.databricks.v1+cell": {
     "cellMetadata": {
      "byteLimit": 2048000,
      "rowLimit": 10000
     },
     "inputWidgets": {},
     "nuid": "48274b94-40df-4561-b6a5-b728531db168",
     "showTitle": false,
     "tableResultSettingsMap": {},
     "title": ""
    }
   },
   "source": [
    "In this step, we analyze the performance of various models trained in Phase 5. The evaluation metrics include:\n",
    "\n",
    "- AUC-ROC: Measures the model's ability to distinguish fraud vs. non-fraud.\n",
    "- Precision: How many of the transactions flagged as fraud were actually fraud.\n",
    "- Recall: How many of the actual fraudulent transactions were correctly identified.\n",
    "- F1 Score: The balance between Precision and Recall.\n",
    "\n",
    "#### Key Insights\n",
    "- Logistic Regression achieved the highest AUC-ROC (0.9941), making it the best model for fraud detection.\n",
    "- Decision Tree had the lowest performance and is not suitable for deployment.\n",
    "- Random Forest (default & tuned) models performed well, balancing precision and recall.\n",
    "- Trade-offs: If the business prioritizes minimizing false positives, a model with higher precision should be selected."
   ]
  },
  {
   "cell_type": "markdown",
   "metadata": {
    "application/vnd.databricks.v1+cell": {
     "cellMetadata": {
      "byteLimit": 2048000,
      "rowLimit": 10000
     },
     "inputWidgets": {},
     "nuid": "ab7a32cf-c76b-4b3a-88ab-7d2dc459ec63",
     "showTitle": false,
     "tableResultSettingsMap": {},
     "title": ""
    }
   },
   "source": [
    "\n",
    "### Step 2: Actionable Business Insights\n",
    "\n",
    "#### Fraud Detection & Prevention\n",
    "- Deploy the best model (Logistic Regression) in real-time fraud detection systems.\n",
    "- Set up alerts for customers upon detecting suspicious transactions.\n",
    "\n",
    "#### Operational Strategies\n",
    "- Increase manual review for high-risk transactions flagged by the model.\n",
    "- Implement additional verification steps (e.g., OTP, email confirmation) for flagged transactions.\n",
    "\n",
    "#### Policy Adjustments\n",
    "- Modify transaction limits for high-risk users based on fraud likelihood.\n",
    "- Identify patterns in fraudulent transactions to enhance security measures."
   ]
  },
  {
   "cell_type": "markdown",
   "metadata": {
    "application/vnd.databricks.v1+cell": {
     "cellMetadata": {
      "byteLimit": 2048000,
      "rowLimit": 10000
     },
     "inputWidgets": {},
     "nuid": "2f7d9292-ecbc-4638-b0ca-29762319d051",
     "showTitle": false,
     "tableResultSettingsMap": {},
     "title": ""
    }
   },
   "source": [
    "### Step 3: Challenges & Possible Improvements\n",
    "\n",
    "#### Challenges Encountered\n",
    "- **Class Imbalance**: Fraudulent transactions are rare, making it harder to train models effectively.\n",
    "- **Feature Importance**: Some features may not significantly contribute to fraud detection.\n",
    "- **Computational Efficiency**: Training large models (e.g., Random Forest) took longer.\n",
    "\n",
    "#### **Future Improvements**\n",
    "- **Advanced Techniques**: Try Gradient Boosting (XGBoost, LightGBM) or Deep Learning.\n",
    "- **Feature Engineering**: Create additional features such as transaction frequency or user behavior patterns**.\n",
    "- **Class Imbalance Handling**: Apply SMOTE (Synthetic Minority Over-sampling) to improve recall.\n",
    "- **Real-time Implementation**: Deploy the model in a streaming environment using Spark or Kafka."
   ]
  },
  {
   "cell_type": "markdown",
   "metadata": {
    "application/vnd.databricks.v1+cell": {
     "cellMetadata": {
      "byteLimit": 2048000,
      "rowLimit": 10000
     },
     "inputWidgets": {},
     "nuid": "03f2dc34-9989-4e61-87df-a17a72508a2b",
     "showTitle": false,
     "tableResultSettingsMap": {},
     "title": ""
    }
   },
   "source": [
    "### **Step 4: Visualizing Key Findings**"
   ]
  },
  {
   "cell_type": "code",
   "execution_count": 0,
   "metadata": {
    "application/vnd.databricks.v1+cell": {
     "cellMetadata": {
      "byteLimit": 2048000,
      "rowLimit": 10000
     },
     "inputWidgets": {},
     "nuid": "15c34d82-c8a7-4dc1-b434-26cfbf17c7cb",
     "showTitle": false,
     "tableResultSettingsMap": {},
     "title": ""
    }
   },
   "outputs": [
    {
     "output_type": "display_data",
     "data": {
      "image/png": "[encoded data removed]"
     },
     "metadata": {
      "application/vnd.databricks.v1+output": {
       "addedWidgets": {},
       "arguments": {},
       "data": "data:image/png;base64,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\n",
       "datasetInfos": [],
       "metadata": {},
       "removedWidgets": [],
       "type": "image"
      }
     },
     "output_type": "display_data"
    }
   ],
   "source": [
    "# Step 4: Visualize Key Findings\n",
    "import matplotlib.pyplot as plt\n",
    "\n",
    "# Bar chart for model performance comparison\n",
    "fig, ax = plt.subplots(figsize=(8, 5))\n",
    "performance_df.set_index(\"Model\")[[\"AUC-ROC\", \"Precision\", \"Recall\", \"F1 Score\"]].plot(kind=\"bar\", ax=ax)\n",
    "plt.title(\"Model Performance Comparison\")\n",
    "plt.ylabel(\"Score\")\n",
    "plt.xticks(rotation=45)\n",
    "plt.legend(loc=\"lower right\")\n",
    "plt.grid(axis=\"y\", linestyle=\"--\", alpha=0.7)\n",
    "\n",
    "plt.show()"
   ]
  }
 ],
 "metadata": {
  "application/vnd.databricks.v1+notebook": {
   "computePreferences": null,
   "dashboards": [],
   "environmentMetadata": {
    "base_environment": "",
    "client": "1"
   },
   "language": "python",
   "notebookMetadata": {
    "mostRecentlyExecutedCommandWithImplicitDF": {
     "commandId": 4073092839810799,
     "dataframes": [
      "_sqldf"
     ]
    },
    "pythonIndentUnit": 4
   },
   "notebookName": "final-project",
   "widgets": {}
  }
 },
 "nbformat": 4,
 "nbformat_minor": 0
}
